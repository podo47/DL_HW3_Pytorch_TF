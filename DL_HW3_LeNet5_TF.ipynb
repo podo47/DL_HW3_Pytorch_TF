{
  "nbformat": 4,
  "nbformat_minor": 0,
  "metadata": {
    "colab": {
      "provenance": [],
      "toc_visible": true,
      "gpuType": "T4",
      "include_colab_link": true
    },
    "kernelspec": {
      "name": "python3",
      "display_name": "Python 3"
    },
    "language_info": {
      "name": "python"
    },
    "gpuClass": "standard",
    "accelerator": "GPU"
  },
  "cells": [
    {
      "cell_type": "markdown",
      "metadata": {
        "id": "view-in-github",
        "colab_type": "text"
      },
      "source": [
        "<a href=\"https://colab.research.google.com/github/podo47/DL_HW3_Pytorch_TF/blob/main/DL_HW3_LeNet5_TF.ipynb\" target=\"_parent\"><img src=\"https://colab.research.google.com/assets/colab-badge.svg\" alt=\"Open In Colab\"/></a>"
      ]
    },
    {
      "cell_type": "markdown",
      "source": [
        "# Tensorflow"
      ],
      "metadata": {
        "id": "igAKYcfsg7gv"
      }
    },
    {
      "cell_type": "markdown",
      "source": [
        "## Mount to drive"
      ],
      "metadata": {
        "id": "C3r--zdJykZb"
      }
    },
    {
      "cell_type": "code",
      "execution_count": 1,
      "metadata": {
        "id": "79RQ2gTfhoh1",
        "colab": {
          "base_uri": "https://localhost:8080/"
        },
        "outputId": "70ac017a-706b-4519-fb42-7a608467ffaa"
      },
      "outputs": [
        {
          "output_type": "stream",
          "name": "stdout",
          "text": [
            "Mounted at /content/drive\n"
          ]
        }
      ],
      "source": [
        "from google.colab import drive\n",
        "drive.mount('/content/drive') "
      ]
    },
    {
      "cell_type": "markdown",
      "source": [
        "## Import library"
      ],
      "metadata": {
        "id": "LCGKQu6YypVJ"
      }
    },
    {
      "cell_type": "code",
      "source": [
        "import os\n",
        "import math\n",
        "import random\n",
        "import numpy as np \n",
        "import pandas as pd \n",
        "import matplotlib.pyplot as plt \n",
        "from PIL import Image\n",
        "import cv2\n",
        "import time\n",
        "import pickle\n",
        "\n",
        "\n",
        "import tensorflow as tf\n",
        "from tensorflow.keras import layers\n",
        "from tensorflow.keras import Sequential\n",
        "from tensorflow.keras.layers import Conv2D, AveragePooling2D, Flatten, Dense\n",
        "from tensorflow.keras.losses import CategoricalCrossentropy\n",
        "from tensorflow.keras.utils import plot_model\n",
        "from tensorflow.keras.callbacks import CSVLogger\n",
        "\n",
        "#!pip install tensorflow-model-optimization\n",
        "import tensorflow_model_optimization as tfmot\n",
        "\n",
        "#!pip install keras-flops\n",
        "from keras_flops import get_flops"
      ],
      "metadata": {
        "id": "teX2Olef0-Zc"
      },
      "execution_count": null,
      "outputs": []
    },
    {
      "cell_type": "code",
      "source": [
        "import warnings\n",
        "warnings.filterwarnings('ignore')"
      ],
      "metadata": {
        "id": "zA_Hj5q32rqp"
      },
      "execution_count": 3,
      "outputs": []
    },
    {
      "cell_type": "code",
      "source": [
        "# Show matplotlib graphs in your notebook\n",
        "%matplotlib inline"
      ],
      "metadata": {
        "id": "ZhyPFYPpysO-"
      },
      "execution_count": 4,
      "outputs": []
    },
    {
      "cell_type": "markdown",
      "source": [
        "## Load data"
      ],
      "metadata": {
        "id": "6CWT08JY3Vf2"
      }
    },
    {
      "cell_type": "code",
      "source": [
        "train = pd.read_csv('/content/drive/MyDrive/images/train.txt', sep=\" \",header=None)\n",
        "train_y = np.array(train[1])\n",
        "\n",
        "valid = pd.read_csv('/content/drive/MyDrive/images/val.txt', sep=\" \",header=None)\n",
        "valid_y = np.array(valid[1])\n",
        "\n",
        "test = pd.read_csv('/content/drive/MyDrive/images/test.txt', sep=\" \",header=None)\n",
        "test_dir = np.array(test[0])\n",
        "test_y = np.array(test[1])"
      ],
      "metadata": {
        "id": "JlWEs0268gAV"
      },
      "execution_count": 5,
      "outputs": []
    },
    {
      "cell_type": "code",
      "source": [
        "with np.load(\"/content/drive/MyDrive/images/rgb_dataset.npz\") as data:\n",
        "    X_train = data[\"traindata\"]\n",
        "    X_valid = data[\"validdata\"]\n",
        "    X_test = data[\"testdata\"]"
      ],
      "metadata": {
        "id": "hBrZNm1e3UjV"
      },
      "execution_count": 6,
      "outputs": []
    },
    {
      "cell_type": "code",
      "source": [
        "print('X_train shape : ', X_train.shape)\n",
        "print('X_valid shape : ',X_valid.shape)\n",
        "print('X_test shape : ',X_test.shape)"
      ],
      "metadata": {
        "colab": {
          "base_uri": "https://localhost:8080/"
        },
        "id": "C7TxFlnr4e2N",
        "outputId": "1d815186-7054-4539-f2e1-3208fc8a209f"
      },
      "execution_count": 7,
      "outputs": [
        {
          "output_type": "stream",
          "name": "stdout",
          "text": [
            "X_train shape :  (63325, 28, 28, 3)\n",
            "X_valid shape :  (450, 28, 28, 3)\n",
            "X_test shape :  (450, 28, 28, 3)\n"
          ]
        }
      ]
    },
    {
      "cell_type": "markdown",
      "source": [
        "## Define dataset"
      ],
      "metadata": {
        "id": "J-KiqLcOakOj"
      }
    },
    {
      "cell_type": "code",
      "source": [
        "X_train, train_y = tf.cast(X_train, tf.float32)/255.0, tf.cast(train_y, tf.int32)\n",
        "X_valid, valid_y = tf.cast(X_valid, tf.float32)/255.0, tf.cast(valid_y, tf.int32)\n",
        "X_test, test_y = tf.cast(X_test, tf.float32)/255.0, tf.cast(test_y, tf.int32)\n",
        "\n",
        "train_data = tf.data.Dataset.from_tensor_slices((X_train, train_y))\n",
        "valid_data = tf.data.Dataset.from_tensor_slices((X_valid, valid_y))\n",
        "test_data = tf.data.Dataset.from_tensor_slices((X_test, test_y))"
      ],
      "metadata": {
        "id": "g65jtcjUali_"
      },
      "execution_count": 8,
      "outputs": []
    },
    {
      "cell_type": "markdown",
      "source": [
        "### Data augmentation"
      ],
      "metadata": {
        "id": "8JgNkPVufD3B"
      }
    },
    {
      "cell_type": "code",
      "source": [
        "# Normalization\n",
        "def transform1(image, label): \n",
        "    image = (image - 0.5)/0.5  \n",
        "    return image, label\n",
        "\n",
        "# Randomly adjust the brightness\n",
        "def transform2(image, label):\n",
        "    image = tf.image.random_brightness(image, max_delta=0.2)  \n",
        "    image = (image - 0.5)/0.5\n",
        "    return image, label\n",
        "\n",
        "# Adjust the contrast\n",
        "def transform3(image, label):\n",
        "    image = tf.image.adjust_contrast(image, 2.0)\n",
        "    image = (image - 0.5)/0.5\n",
        "    return image, label\n",
        "\n",
        "# Flipping: horizontally flip the images.\n",
        "def transform4(image, label):\n",
        "    image = tf.image.random_flip_left_right(image)  \n",
        "    image = (image - 0.5)/0.5\n",
        "    return image, label\n",
        "\n",
        "augmented_dataset = []\n",
        "augmented_dataset.append(train_data.map(transform1))\n",
        "augmented_dataset.append(train_data.map(transform2))\n",
        "augmented_dataset.append(train_data.map(transform3))\n",
        "augmented_dataset.append(train_data.map(transform4))\n",
        "\n",
        "train_dataset = augmented_dataset[0]\n",
        "for dataset in augmented_dataset[1:]:\n",
        "    train_dataset = train_dataset.concatenate(dataset)\n",
        "valid_dataset = valid_data.map(transform1)\n",
        "test_dataset = test_data.map(transform1)"
      ],
      "metadata": {
        "id": "HuxrjAjyfDL2"
      },
      "execution_count": 9,
      "outputs": []
    },
    {
      "cell_type": "markdown",
      "source": [
        "### Dataset"
      ],
      "metadata": {
        "id": "02iStwW9VDl4"
      }
    },
    {
      "cell_type": "code",
      "source": [
        "# Shuffle\n",
        "train_dataset = train_dataset.shuffle(buffer_size=50000)\n",
        " \n",
        "train_dataset = train_dataset.batch(256)\n",
        "valid_dataset = valid_dataset.batch(450)\n",
        "test_dataset = test_dataset.batch(450)"
      ],
      "metadata": {
        "id": "_sETDpoOG6r2"
      },
      "execution_count": 10,
      "outputs": []
    },
    {
      "cell_type": "markdown",
      "source": [
        "## LeNet5"
      ],
      "metadata": {
        "id": "FlS40wQIyrji"
      }
    },
    {
      "cell_type": "code",
      "source": [
        "def LeNet5():\n",
        "    model = tf.keras.models.Sequential([\n",
        "        tf.keras.layers.Conv2D(6, kernel_size=(5, 5), activation='sigmoid', input_shape=(28, 28, 3)),\n",
        "        tf.keras.layers.MaxPooling2D(pool_size=(2, 2)),\n",
        "        tf.keras.layers.Conv2D(16, kernel_size=(5, 5), activation='sigmoid'),\n",
        "        tf.keras.layers.MaxPooling2D(pool_size=(2, 2)),\n",
        "        tf.keras.layers.Flatten(),\n",
        "        tf.keras.layers.Dense(120, activation='sigmoid'),\n",
        "        tf.keras.layers.Dense(84, activation='sigmoid'),\n",
        "        tf.keras.layers.Dense(50, activation='softmax')])\n",
        "    \n",
        "    return model"
      ],
      "metadata": {
        "id": "S1GgAASYyt7a"
      },
      "execution_count": 11,
      "outputs": []
    },
    {
      "cell_type": "code",
      "source": [
        "lenet5 = LeNet5()\n",
        "lenet5.summary()"
      ],
      "metadata": {
        "colab": {
          "base_uri": "https://localhost:8080/"
        },
        "id": "8OAipH_HPO2P",
        "outputId": "b3dc9325-45b7-4103-dd3c-a4504627579e"
      },
      "execution_count": null,
      "outputs": [
        {
          "output_type": "stream",
          "name": "stdout",
          "text": [
            "Model: \"sequential\"\n",
            "_________________________________________________________________\n",
            " Layer (type)                Output Shape              Param #   \n",
            "=================================================================\n",
            " conv2d_6 (Conv2D)           (None, 24, 24, 6)         456       \n",
            "                                                                 \n",
            " max_pooling2d_4 (MaxPooling  (None, 12, 12, 6)        0         \n",
            " 2D)                                                             \n",
            "                                                                 \n",
            " conv2d_7 (Conv2D)           (None, 8, 8, 16)          2416      \n",
            "                                                                 \n",
            " max_pooling2d_5 (MaxPooling  (None, 4, 4, 16)         0         \n",
            " 2D)                                                             \n",
            "                                                                 \n",
            " flatten_2 (Flatten)         (None, 256)               0         \n",
            "                                                                 \n",
            " dense_4 (Dense)             (None, 120)               30840     \n",
            "                                                                 \n",
            " dense_5 (Dense)             (None, 84)                10164     \n",
            "                                                                 \n",
            " dense_6 (Dense)             (None, 50)                4250      \n",
            "                                                                 \n",
            "=================================================================\n",
            "Total params: 48,126\n",
            "Trainable params: 48,126\n",
            "Non-trainable params: 0\n",
            "_________________________________________________________________\n"
          ]
        }
      ]
    },
    {
      "cell_type": "code",
      "source": [
        "plot_model(lenet5, to_file='/content/drive/MyDrive/DL/HW3/LeNet5_tf/LeNet5_model.png', show_shapes=True)"
      ],
      "metadata": {
        "colab": {
          "base_uri": "https://localhost:8080/",
          "height": 976
        },
        "id": "8hzrzm2tQjoe",
        "outputId": "48bc6689-2bb8-4235-a4e4-3a2668b3b195"
      },
      "execution_count": null,
      "outputs": [
        {
          "output_type": "execute_result",
          "data": {
            "image/png": "[encoded data removed]",
            "text/plain": [
              "<IPython.core.display.Image object>"
            ]
          },
          "metadata": {},
          "execution_count": 24
        }
      ]
    },
    {
      "cell_type": "markdown",
      "source": [
        "## Train"
      ],
      "metadata": {
        "id": "ouhfDSj0Pgh4"
      }
    },
    {
      "cell_type": "markdown",
      "source": [
        "### Define a loss function and optimizer"
      ],
      "metadata": {
        "id": "Feok1EcCPjOk"
      }
    },
    {
      "cell_type": "code",
      "source": [
        "lenet5.compile(optimizer='adam',\n",
        "              loss=tf.keras.losses.SparseCategoricalCrossentropy(from_logits=False),\n",
        "              metrics=['sparse_categorical_accuracy'])"
      ],
      "metadata": {
        "id": "ddUANbY2Pi1K"
      },
      "execution_count": null,
      "outputs": []
    },
    {
      "cell_type": "markdown",
      "source": [
        "### Train the network"
      ],
      "metadata": {
        "id": "tA3pWrgLR7pi"
      }
    },
    {
      "cell_type": "code",
      "source": [
        "n_epoch = 25\n",
        "csv_logger = CSVLogger('/content/drive/MyDrive/DL/HW3/LeNet5_tf/training_log.csv')\n",
        "\n",
        "t1=time.time()\n",
        "history = lenet5.fit(train_dataset, validation_data=valid_dataset, epochs=n_epoch, callbacks=[csv_logger])\n",
        "print(\"Total time used:\", time.time() - t1, \"sec\")"
      ],
      "metadata": {
        "colab": {
          "base_uri": "https://localhost:8080/"
        },
        "id": "OVxZzKlXR7Or",
        "outputId": "3d9e405a-8f32-46c3-88c7-8d2b0b7bdf52"
      },
      "execution_count": null,
      "outputs": [
        {
          "output_type": "stream",
          "name": "stdout",
          "text": [
            "Epoch 1/25\n",
            "990/990 [==============================] - 25s 21ms/step - loss: 3.7073 - sparse_categorical_accuracy: 0.0601 - val_loss: 3.5426 - val_sparse_categorical_accuracy: 0.0844\n",
            "Epoch 2/25\n",
            "990/990 [==============================] - 21s 20ms/step - loss: 3.3283 - sparse_categorical_accuracy: 0.1237 - val_loss: 3.3193 - val_sparse_categorical_accuracy: 0.1222\n",
            "Epoch 3/25\n",
            "990/990 [==============================] - 23s 22ms/step - loss: 3.1880 - sparse_categorical_accuracy: 0.1498 - val_loss: 3.2303 - val_sparse_categorical_accuracy: 0.1333\n",
            "Epoch 4/25\n",
            "990/990 [==============================] - 19s 17ms/step - loss: 3.1221 - sparse_categorical_accuracy: 0.1623 - val_loss: 3.2427 - val_sparse_categorical_accuracy: 0.1311\n",
            "Epoch 5/25\n",
            "990/990 [==============================] - 19s 17ms/step - loss: 3.0775 - sparse_categorical_accuracy: 0.1719 - val_loss: 3.1703 - val_sparse_categorical_accuracy: 0.1422\n",
            "Epoch 6/25\n",
            "990/990 [==============================] - 21s 19ms/step - loss: 3.0397 - sparse_categorical_accuracy: 0.1798 - val_loss: 3.1375 - val_sparse_categorical_accuracy: 0.1533\n",
            "Epoch 7/25\n",
            "990/990 [==============================] - 19s 17ms/step - loss: 3.0058 - sparse_categorical_accuracy: 0.1872 - val_loss: 3.0879 - val_sparse_categorical_accuracy: 0.1644\n",
            "Epoch 8/25\n",
            "990/990 [==============================] - 23s 22ms/step - loss: 2.9753 - sparse_categorical_accuracy: 0.1940 - val_loss: 3.1137 - val_sparse_categorical_accuracy: 0.1644\n",
            "Epoch 9/25\n",
            "990/990 [==============================] - 21s 20ms/step - loss: 2.9482 - sparse_categorical_accuracy: 0.2003 - val_loss: 3.0451 - val_sparse_categorical_accuracy: 0.1711\n",
            "Epoch 10/25\n",
            "990/990 [==============================] - 21s 19ms/step - loss: 2.9247 - sparse_categorical_accuracy: 0.2060 - val_loss: 3.0301 - val_sparse_categorical_accuracy: 0.1756\n",
            "Epoch 11/25\n",
            "990/990 [==============================] - 19s 17ms/step - loss: 2.9017 - sparse_categorical_accuracy: 0.2112 - val_loss: 3.0125 - val_sparse_categorical_accuracy: 0.1867\n",
            "Epoch 12/25\n",
            "990/990 [==============================] - 22s 21ms/step - loss: 2.8806 - sparse_categorical_accuracy: 0.2159 - val_loss: 2.9997 - val_sparse_categorical_accuracy: 0.1889\n",
            "Epoch 13/25\n",
            "990/990 [==============================] - 21s 19ms/step - loss: 2.8615 - sparse_categorical_accuracy: 0.2204 - val_loss: 2.9787 - val_sparse_categorical_accuracy: 0.1800\n",
            "Epoch 14/25\n",
            "990/990 [==============================] - 22s 21ms/step - loss: 2.8439 - sparse_categorical_accuracy: 0.2248 - val_loss: 2.9642 - val_sparse_categorical_accuracy: 0.1933\n",
            "Epoch 15/25\n",
            "990/990 [==============================] - 21s 19ms/step - loss: 2.8278 - sparse_categorical_accuracy: 0.2279 - val_loss: 2.9274 - val_sparse_categorical_accuracy: 0.1800\n",
            "Epoch 16/25\n",
            "990/990 [==============================] - 24s 23ms/step - loss: 2.8105 - sparse_categorical_accuracy: 0.2315 - val_loss: 2.9733 - val_sparse_categorical_accuracy: 0.1822\n",
            "Epoch 17/25\n",
            "990/990 [==============================] - 26s 25ms/step - loss: 2.7956 - sparse_categorical_accuracy: 0.2348 - val_loss: 2.9108 - val_sparse_categorical_accuracy: 0.2000\n",
            "Epoch 18/25\n",
            "990/990 [==============================] - 22s 21ms/step - loss: 2.7794 - sparse_categorical_accuracy: 0.2390 - val_loss: 2.9355 - val_sparse_categorical_accuracy: 0.2067\n",
            "Epoch 19/25\n",
            "990/990 [==============================] - 19s 18ms/step - loss: 2.7663 - sparse_categorical_accuracy: 0.2420 - val_loss: 2.9295 - val_sparse_categorical_accuracy: 0.1956\n",
            "Epoch 20/25\n",
            "990/990 [==============================] - 19s 17ms/step - loss: 2.7515 - sparse_categorical_accuracy: 0.2455 - val_loss: 2.9157 - val_sparse_categorical_accuracy: 0.1978\n",
            "Epoch 21/25\n",
            "990/990 [==============================] - 23s 22ms/step - loss: 2.7351 - sparse_categorical_accuracy: 0.2491 - val_loss: 2.8883 - val_sparse_categorical_accuracy: 0.2044\n",
            "Epoch 22/25\n",
            "990/990 [==============================] - 19s 18ms/step - loss: 2.7226 - sparse_categorical_accuracy: 0.2522 - val_loss: 2.8811 - val_sparse_categorical_accuracy: 0.2022\n",
            "Epoch 23/25\n",
            "990/990 [==============================] - 21s 19ms/step - loss: 2.7080 - sparse_categorical_accuracy: 0.2557 - val_loss: 2.8976 - val_sparse_categorical_accuracy: 0.2067\n",
            "Epoch 24/25\n",
            "990/990 [==============================] - 20s 19ms/step - loss: 2.6961 - sparse_categorical_accuracy: 0.2583 - val_loss: 2.8661 - val_sparse_categorical_accuracy: 0.2089\n",
            "Epoch 25/25\n",
            "990/990 [==============================] - 23s 21ms/step - loss: 2.6831 - sparse_categorical_accuracy: 0.2616 - val_loss: 2.8633 - val_sparse_categorical_accuracy: 0.2044\n",
            "Total time used: 595.083550453186 sec\n"
          ]
        }
      ]
    },
    {
      "cell_type": "markdown",
      "source": [
        "### Show performance"
      ],
      "metadata": {
        "id": "Nt9gy1-4VKm6"
      }
    },
    {
      "cell_type": "code",
      "source": [
        "history_dict = history.history\n",
        "print(history_dict.keys())"
      ],
      "metadata": {
        "colab": {
          "base_uri": "https://localhost:8080/"
        },
        "id": "6wZQnER1VHkG",
        "outputId": "51e4b9da-fa77-458c-c53a-595a39d002b2"
      },
      "execution_count": null,
      "outputs": [
        {
          "output_type": "stream",
          "name": "stdout",
          "text": [
            "dict_keys(['loss', 'sparse_categorical_accuracy', 'val_loss', 'val_sparse_categorical_accuracy'])\n"
          ]
        }
      ]
    },
    {
      "cell_type": "markdown",
      "source": [
        "Loss"
      ],
      "metadata": {
        "id": "qj5dQ8SnVm-F"
      }
    },
    {
      "cell_type": "code",
      "source": [
        "train_loss = history.history['loss']\n",
        "val_loss = history.history['val_loss']\n",
        "\n",
        "x = np.arange(1, n_epoch + 1)\n",
        "plt.xlabel(\"epoches\")\n",
        "plt.ylabel(\"Loss\")\n",
        "plt.plot(x, train_loss)\n",
        "plt.plot(x, val_loss)\n",
        "plt.grid(True)\n",
        "plt.legend([\"Training data\", \"Validaton data\"], loc = \"upper left\")\n",
        "plt.savefig(\"/content/drive/MyDrive/DL/HW3/LeNet5_tf/LeNet5_loss_tf.png\")\n",
        "plt.show()"
      ],
      "metadata": {
        "colab": {
          "base_uri": "https://localhost:8080/",
          "height": 449
        },
        "id": "XYQRneYuVaBV",
        "outputId": "7b30202c-3c53-40ce-b32f-d53e76f1d879"
      },
      "execution_count": null,
      "outputs": [
        {
          "output_type": "display_data",
          "data": {
            "text/plain": [
              "<Figure size 640x480 with 1 Axes>"
            ],
            "image/png": "[encoded data removed]"
          },
          "metadata": {}
        }
      ]
    },
    {
      "cell_type": "markdown",
      "source": [
        "Accuracy"
      ],
      "metadata": {
        "id": "C6rE4-K1WiV-"
      }
    },
    {
      "cell_type": "code",
      "source": [
        "train_acc = history.history['sparse_categorical_accuracy']\n",
        "val_acc = history.history['val_sparse_categorical_accuracy']\n",
        "\n",
        "x = np.arange(1, n_epoch + 1)\n",
        "plt.xlabel(\"epoches\")\n",
        "plt.ylabel(\"Accuracy\")\n",
        "plt.plot(x, train_acc)\n",
        "plt.plot(x, val_acc)\n",
        "plt.grid(True)\n",
        "plt.legend([\"Training data\", \"Validaton data\"], loc = \"upper left\")\n",
        "plt.savefig(\"/content/drive/MyDrive/DL/HW3/LeNet5_tf/LeNet5_acc_tf.png\")\n",
        "plt.show()"
      ],
      "metadata": {
        "colab": {
          "base_uri": "https://localhost:8080/",
          "height": 449
        },
        "id": "yPp7hT8qWkLs",
        "outputId": "286a3a96-e08e-4b46-a09e-4f696c47e8af"
      },
      "execution_count": null,
      "outputs": [
        {
          "output_type": "display_data",
          "data": {
            "text/plain": [
              "<Figure size 640x480 with 1 Axes>"
            ],
            "image/png": "[encoded data removed]"
          },
          "metadata": {}
        }
      ]
    },
    {
      "cell_type": "markdown",
      "source": [
        "Space Complexity"
      ],
      "metadata": {
        "id": "cM1nxj8S2bEn"
      }
    },
    {
      "cell_type": "code",
      "source": [
        "lenet5.summary()"
      ],
      "metadata": {
        "colab": {
          "base_uri": "https://localhost:8080/"
        },
        "id": "aIhk2MOR5IPD",
        "outputId": "0731d071-8bb8-426f-cd45-1bfbbf34220a"
      },
      "execution_count": 15,
      "outputs": [
        {
          "output_type": "stream",
          "name": "stdout",
          "text": [
            "Model: \"sequential\"\n",
            "_________________________________________________________________\n",
            " Layer (type)                Output Shape              Param #   \n",
            "=================================================================\n",
            " conv2d_6 (Conv2D)           (None, 24, 24, 6)         456       \n",
            "                                                                 \n",
            " max_pooling2d_4 (MaxPooling  (None, 12, 12, 6)        0         \n",
            " 2D)                                                             \n",
            "                                                                 \n",
            " conv2d_7 (Conv2D)           (None, 8, 8, 16)          2416      \n",
            "                                                                 \n",
            " max_pooling2d_5 (MaxPooling  (None, 4, 4, 16)         0         \n",
            " 2D)                                                             \n",
            "                                                                 \n",
            " flatten_2 (Flatten)         (None, 256)               0         \n",
            "                                                                 \n",
            " dense_4 (Dense)             (None, 120)               30840     \n",
            "                                                                 \n",
            " dense_5 (Dense)             (None, 84)                10164     \n",
            "                                                                 \n",
            " dense_6 (Dense)             (None, 50)                4250      \n",
            "                                                                 \n",
            "=================================================================\n",
            "Total params: 48,126\n",
            "Trainable params: 48,126\n",
            "Non-trainable params: 0\n",
            "_________________________________________________________________\n"
          ]
        }
      ]
    },
    {
      "cell_type": "markdown",
      "source": [
        "Flop"
      ],
      "metadata": {
        "id": "GgTVjcB0jZ5V"
      }
    },
    {
      "cell_type": "code",
      "source": [
        "flops = get_flops(lenet5, batch_size=256)\n",
        "print(f\"FLOPS: {flops / 10 ** 9:.03} G\")"
      ],
      "metadata": {
        "colab": {
          "base_uri": "https://localhost:8080/"
        },
        "id": "QjbWgIdOvPV3",
        "outputId": "52d011c6-dcd4-4a87-f861-2999980bb815"
      },
      "execution_count": 13,
      "outputs": [
        {
          "output_type": "stream",
          "name": "stderr",
          "text": [
            "WARNING:tensorflow:From /usr/local/lib/python3.10/dist-packages/tensorflow/python/ops/nn_ops.py:5250: tensor_shape_from_node_def_name (from tensorflow.python.framework.graph_util_impl) is deprecated and will be removed in a future version.\n",
            "Instructions for updating:\n",
            "This API was designed for TensorFlow v1. See https://www.tensorflow.org/guide/migrate for instructions on how to migrate your code to TensorFlow v2.\n"
          ]
        },
        {
          "output_type": "stream",
          "name": "stdout",
          "text": [
            "FLOPS: 0.237 G\n"
          ]
        }
      ]
    },
    {
      "cell_type": "markdown",
      "source": [
        "### Optional : Save the trained model"
      ],
      "metadata": {
        "id": "20llipLfW8O9"
      }
    },
    {
      "cell_type": "code",
      "source": [
        "PATH_lenet5_tf = '/content/drive/MyDrive/DL/HW3/LeNet5_tf/lenet5_tf.h5'"
      ],
      "metadata": {
        "id": "g-66nCXSXlDi"
      },
      "execution_count": null,
      "outputs": []
    },
    {
      "cell_type": "code",
      "source": [
        "# Save the model.\n",
        "lenet5.save(PATH_lenet5_tf)"
      ],
      "metadata": {
        "id": "IM1xDsNcW9ZK"
      },
      "execution_count": null,
      "outputs": []
    },
    {
      "cell_type": "markdown",
      "source": [
        "## Test"
      ],
      "metadata": {
        "id": "neVd4-Uxbr7e"
      }
    },
    {
      "cell_type": "markdown",
      "source": [
        "### Load back in saved model"
      ],
      "metadata": {
        "id": "FlD5s_HXbyjn"
      }
    },
    {
      "cell_type": "code",
      "source": [
        "PATH_lenet5_tf = '/content/drive/MyDrive/DL/HW3/LeNet5_tf/lenet5_tf.h5'\n",
        "lenet5 = tf.keras.models.load_model(PATH_lenet5_tf)"
      ],
      "metadata": {
        "id": "iDtQ0E8ObvQQ"
      },
      "execution_count": 12,
      "outputs": []
    },
    {
      "cell_type": "markdown",
      "source": [
        "### Evaluate on testing set"
      ],
      "metadata": {
        "id": "5DuG2dfZcG4d"
      }
    },
    {
      "cell_type": "code",
      "source": [
        "test_loss, test_accuracy = lenet5.evaluate(test_dataset)\n",
        "\n",
        "print('Test Loss:', round(test_loss, 4))\n",
        "print('Test Accuracy:', round(test_accuracy, 4))"
      ],
      "metadata": {
        "colab": {
          "base_uri": "https://localhost:8080/"
        },
        "id": "XX5__q2HmBGt",
        "outputId": "ea6c1512-502d-40a0-a454-09251854cef3"
      },
      "execution_count": null,
      "outputs": [
        {
          "output_type": "stream",
          "name": "stdout",
          "text": [
            "1/1 [==============================] - 1s 600ms/step - loss: 2.8524 - sparse_categorical_accuracy: 0.2489\n",
            "Test Loss: 2.8524\n",
            "Test Accuracy: 0.2489\n"
          ]
        }
      ]
    },
    {
      "cell_type": "code",
      "source": [
        "t1 = time.time()\n",
        "prediction = lenet5.predict(test_dataset)\n",
        "print(\"Total time used:\", time.time() - t1, \"sec\")\n",
        "lenet5_test_pred = tf.argmax(prediction, axis=1).numpy()"
      ],
      "metadata": {
        "colab": {
          "base_uri": "https://localhost:8080/"
        },
        "id": "PIfvlG9UcI-h",
        "outputId": "b5148b8a-2ac0-4d70-ec20-ecf40ceb4314"
      },
      "execution_count": null,
      "outputs": [
        {
          "output_type": "stream",
          "name": "stdout",
          "text": [
            "1/1 [==============================] - 0s 420ms/step\n",
            "Total time used: 0.4450962543487549 sec\n"
          ]
        }
      ]
    },
    {
      "cell_type": "code",
      "source": [
        "def answer(test_y, test_y_pred, data_name, output_name):\n",
        "  df = np.column_stack((test_y, test_y_pred))\n",
        "  test_result = pd.DataFrame(df, index=data_name, columns=['Answer','Prediction'])\n",
        "  test_result.to_csv('/content/drive/MyDrive/DL/HW3/LeNet5_tf/' + output_name + '_test_result.csv')\n",
        "  return test_result"
      ],
      "metadata": {
        "id": "VMh6NNctpaYe"
      },
      "execution_count": null,
      "outputs": []
    },
    {
      "cell_type": "code",
      "source": [
        "output_name = 'LeNet5_tf'\n",
        "LeNet5_answer = answer(test_y, lenet5_test_pred, test_dir, output_name)\n",
        "LeNet5_answer"
      ],
      "metadata": {
        "colab": {
          "base_uri": "https://localhost:8080/",
          "height": 423
        },
        "id": "txWl2lUOpeHh",
        "outputId": "f5b18d60-b250-4864-d209-6d6ad59ad816"
      },
      "execution_count": null,
      "outputs": [
        {
          "output_type": "execute_result",
          "data": {
            "text/plain": [
              "                                      Answer  Prediction\n",
              "images/n02111277/n02111277_9420.JPEG       0          48\n",
              "images/n02111277/n02111277_9422.JPEG       0          31\n",
              "images/n02111277/n02111277_9484.JPEG       0          46\n",
              "images/n02111277/n02111277_951.JPEG        0          41\n",
              "images/n02111277/n02111277_9518.JPEG       0          39\n",
              "...                                      ...         ...\n",
              "images/n02172182/n02172182_974.JPEG       49          49\n",
              "images/n02172182/n02172182_9765.JPEG      49          44\n",
              "images/n02172182/n02172182_9789.JPEG      49          49\n",
              "images/n02172182/n02172182_98.JPEG        49          46\n",
              "images/n02172182/n02172182_981.JPEG       49          41\n",
              "\n",
              "[450 rows x 2 columns]"
            ],
            "text/html": [
              "\n",
              "  <div id=\"df-da29f783-a558-4d38-be09-72498404ebee\">\n",
              "    <div class=\"colab-df-container\">\n",
              "      <div>\n",
              "<style scoped>\n",
              "    .dataframe tbody tr th:only-of-type {\n",
              "        vertical-align: middle;\n",
              "    }\n",
              "\n",
              "    .dataframe tbody tr th {\n",
              "        vertical-align: top;\n",
              "    }\n",
              "\n",
              "    .dataframe thead th {\n",
              "        text-align: right;\n",
              "    }\n",
              "</style>\n",
              "<table border=\"1\" class=\"dataframe\">\n",
              "  <thead>\n",
              "    <tr style=\"text-align: right;\">\n",
              "      <th></th>\n",
              "      <th>Answer</th>\n",
              "      <th>Prediction</th>\n",
              "    </tr>\n",
              "  </thead>\n",
              "  <tbody>\n",
              "    <tr>\n",
              "      <th>images/n02111277/n02111277_9420.JPEG</th>\n",
              "      <td>0</td>\n",
              "      <td>48</td>\n",
              "    </tr>\n",
              "    <tr>\n",
              "      <th>images/n02111277/n02111277_9422.JPEG</th>\n",
              "      <td>0</td>\n",
              "      <td>31</td>\n",
              "    </tr>\n",
              "    <tr>\n",
              "      <th>images/n02111277/n02111277_9484.JPEG</th>\n",
              "      <td>0</td>\n",
              "      <td>46</td>\n",
              "    </tr>\n",
              "    <tr>\n",
              "      <th>images/n02111277/n02111277_951.JPEG</th>\n",
              "      <td>0</td>\n",
              "      <td>41</td>\n",
              "    </tr>\n",
              "    <tr>\n",
              "      <th>images/n02111277/n02111277_9518.JPEG</th>\n",
              "      <td>0</td>\n",
              "      <td>39</td>\n",
              "    </tr>\n",
              "    <tr>\n",
              "      <th>...</th>\n",
              "      <td>...</td>\n",
              "      <td>...</td>\n",
              "    </tr>\n",
              "    <tr>\n",
              "      <th>images/n02172182/n02172182_974.JPEG</th>\n",
              "      <td>49</td>\n",
              "      <td>49</td>\n",
              "    </tr>\n",
              "    <tr>\n",
              "      <th>images/n02172182/n02172182_9765.JPEG</th>\n",
              "      <td>49</td>\n",
              "      <td>44</td>\n",
              "    </tr>\n",
              "    <tr>\n",
              "      <th>images/n02172182/n02172182_9789.JPEG</th>\n",
              "      <td>49</td>\n",
              "      <td>49</td>\n",
              "    </tr>\n",
              "    <tr>\n",
              "      <th>images/n02172182/n02172182_98.JPEG</th>\n",
              "      <td>49</td>\n",
              "      <td>46</td>\n",
              "    </tr>\n",
              "    <tr>\n",
              "      <th>images/n02172182/n02172182_981.JPEG</th>\n",
              "      <td>49</td>\n",
              "      <td>41</td>\n",
              "    </tr>\n",
              "  </tbody>\n",
              "</table>\n",
              "<p>450 rows × 2 columns</p>\n",
              "</div>\n",
              "      <button class=\"colab-df-convert\" onclick=\"convertToInteractive('df-da29f783-a558-4d38-be09-72498404ebee')\"\n",
              "              title=\"Convert this dataframe to an interactive table.\"\n",
              "              style=\"display:none;\">\n",
              "        \n",
              "  <svg xmlns=\"http://www.w3.org/2000/svg\" height=\"24px\"viewBox=\"0 0 24 24\"\n",
              "       width=\"24px\">\n",
              "    <path d=\"M0 0h24v24H0V0z\" fill=\"none\"/>\n",
              "    <path d=\"M18.56 5.44l.94 2.06.94-2.06 2.06-.94-2.06-.94-.94-2.06-.94 2.06-2.06.94zm-11 1L8.5 8.5l.94-2.06 2.06-.94-2.06-.94L8.5 2.5l-.94 2.06-2.06.94zm10 10l.94 2.06.94-2.06 2.06-.94-2.06-.94-.94-2.06-.94 2.06-2.06.94z\"/><path d=\"M17.41 7.96l-1.37-1.37c-.4-.4-.92-.59-1.43-.59-.52 0-1.04.2-1.43.59L10.3 9.45l-7.72 7.72c-.78.78-.78 2.05 0 2.83L4 21.41c.39.39.9.59 1.41.59.51 0 1.02-.2 1.41-.59l7.78-7.78 2.81-2.81c.8-.78.8-2.07 0-2.86zM5.41 20L4 18.59l7.72-7.72 1.47 1.35L5.41 20z\"/>\n",
              "  </svg>\n",
              "      </button>\n",
              "      \n",
              "  <style>\n",
              "    .colab-df-container {\n",
              "      display:flex;\n",
              "      flex-wrap:wrap;\n",
              "      gap: 12px;\n",
              "    }\n",
              "\n",
              "    .colab-df-convert {\n",
              "      background-color: #E8F0FE;\n",
              "      border: none;\n",
              "      border-radius: 50%;\n",
              "      cursor: pointer;\n",
              "      display: none;\n",
              "      fill: #1967D2;\n",
              "      height: 32px;\n",
              "      padding: 0 0 0 0;\n",
              "      width: 32px;\n",
              "    }\n",
              "\n",
              "    .colab-df-convert:hover {\n",
              "      background-color: #E2EBFA;\n",
              "      box-shadow: 0px 1px 2px rgba(60, 64, 67, 0.3), 0px 1px 3px 1px rgba(60, 64, 67, 0.15);\n",
              "      fill: #174EA6;\n",
              "    }\n",
              "\n",
              "    [theme=dark] .colab-df-convert {\n",
              "      background-color: #3B4455;\n",
              "      fill: #D2E3FC;\n",
              "    }\n",
              "\n",
              "    [theme=dark] .colab-df-convert:hover {\n",
              "      background-color: #434B5C;\n",
              "      box-shadow: 0px 1px 3px 1px rgba(0, 0, 0, 0.15);\n",
              "      filter: drop-shadow(0px 1px 2px rgba(0, 0, 0, 0.3));\n",
              "      fill: #FFFFFF;\n",
              "    }\n",
              "  </style>\n",
              "\n",
              "      <script>\n",
              "        const buttonEl =\n",
              "          document.querySelector('#df-da29f783-a558-4d38-be09-72498404ebee button.colab-df-convert');\n",
              "        buttonEl.style.display =\n",
              "          google.colab.kernel.accessAllowed ? 'block' : 'none';\n",
              "\n",
              "        async function convertToInteractive(key) {\n",
              "          const element = document.querySelector('#df-da29f783-a558-4d38-be09-72498404ebee');\n",
              "          const dataTable =\n",
              "            await google.colab.kernel.invokeFunction('convertToInteractive',\n",
              "                                                     [key], {});\n",
              "          if (!dataTable) return;\n",
              "\n",
              "          const docLinkHtml = 'Like what you see? Visit the ' +\n",
              "            '<a target=\"_blank\" href=https://colab.research.google.com/notebooks/data_table.ipynb>data table notebook</a>'\n",
              "            + ' to learn more about interactive tables.';\n",
              "          element.innerHTML = '';\n",
              "          dataTable['output_type'] = 'display_data';\n",
              "          await google.colab.output.renderOutput(dataTable, element);\n",
              "          const docLink = document.createElement('div');\n",
              "          docLink.innerHTML = docLinkHtml;\n",
              "          element.appendChild(docLink);\n",
              "        }\n",
              "      </script>\n",
              "    </div>\n",
              "  </div>\n",
              "  "
            ]
          },
          "metadata": {},
          "execution_count": 58
        }
      ]
    },
    {
      "cell_type": "markdown",
      "source": [
        "# Static"
      ],
      "metadata": {
        "id": "VnJsbE9b4jrA"
      }
    },
    {
      "cell_type": "markdown",
      "source": [
        "### Static LeNet5"
      ],
      "metadata": {
        "id": "w-ANnulSpEU2"
      }
    },
    {
      "cell_type": "code",
      "source": [
        "class LeNet5_Static(tf.keras.Model):\n",
        "    def __init__(self):\n",
        "        super(LeNet5_Static, self).__init__(name='LeNet5_Static', dynamic = False)\n",
        "        self.conv_layer_1 = tf.keras.layers.Conv2D(filters = 6, kernel_size = (5, 5), input_shape=(28, 28, 3), padding=\"valid\", activation='sigmoid')\n",
        "        self.pool_layer_1 = tf.keras.layers.MaxPool2D(2,2)\n",
        "        self.conv_layer_2 = tf.keras.layers.Conv2D(filters = 16, kernel_size = (5, 5), padding=\"valid\", activation='sigmoid')        \n",
        "        self.pool_layer_2 = tf.keras.layers.MaxPool2D(2,2)\n",
        "        self.conv_layer_3 = tf.keras.layers.Conv2D(filters = 120, kernel_size = (5, 5), padding=\"valid\", activation='sigmoid')        \n",
        "        self.fc_layer_1 = tf.keras.layers.Flatten()\n",
        "        self.fc_layer_2 = tf.keras.layers.Dense(84, activation=\"sigmoid\")\n",
        "        self.fc_layer_3 = tf.keras.layers.Dense(50, activation=\"softmax\")\n",
        "    \n",
        "    def call(self, inputs):\n",
        "        activation = self.conv_layer_1(inputs)\n",
        "        activation = self.pool_layer_1(activation)\n",
        "        activation = self.conv_layer_2(activation)\n",
        "        activation = self.pool_layer_2(activation)\n",
        "        activation = self.fc_layer_1(activation)\n",
        "        activation = self.fc_layer_2(activation)\n",
        "        output = self.fc_layer_3(activation)\n",
        "        return output"
      ],
      "metadata": {
        "id": "bmqlWpm_4mrl"
      },
      "execution_count": null,
      "outputs": []
    },
    {
      "cell_type": "code",
      "source": [
        "lenet5_s = LeNet5_Static()"
      ],
      "metadata": {
        "id": "LaQdbX2isXZ4"
      },
      "execution_count": null,
      "outputs": []
    },
    {
      "cell_type": "markdown",
      "source": [
        "## Train"
      ],
      "metadata": {
        "id": "uOLuxhdGqIe7"
      }
    },
    {
      "cell_type": "markdown",
      "source": [
        "### Define a loss function and optimizer"
      ],
      "metadata": {
        "id": "clzO1DCUqIe-"
      }
    },
    {
      "cell_type": "code",
      "source": [
        "lenet5_s.compile(optimizer='adam',\n",
        "              loss=tf.keras.losses.SparseCategoricalCrossentropy(from_logits=False),\n",
        "              metrics=['sparse_categorical_accuracy'])"
      ],
      "metadata": {
        "id": "SCo2llyvqIe_"
      },
      "execution_count": null,
      "outputs": []
    },
    {
      "cell_type": "markdown",
      "source": [
        "### Train the network"
      ],
      "metadata": {
        "id": "OouE5GihqIfA"
      }
    },
    {
      "cell_type": "code",
      "source": [
        "n_epoch = 25\n",
        "csv_logger_s = CSVLogger('/content/drive/MyDrive/DL/HW3/LeNet5_tf/static/training_log_static.csv')\n",
        "\n",
        "t1=time.time()\n",
        "history_s = lenet5_s.fit(train_dataset, validation_data=valid_dataset, epochs=n_epoch, callbacks=[csv_logger_s])\n",
        "print(\"Total time used:\", time.time() - t1, \"sec\")"
      ],
      "metadata": {
        "colab": {
          "base_uri": "https://localhost:8080/"
        },
        "outputId": "adfd6cf1-2985-4da8-bca0-094e16d18f82",
        "id": "4wKzRyqEqIfB"
      },
      "execution_count": null,
      "outputs": [
        {
          "output_type": "stream",
          "name": "stdout",
          "text": [
            "Epoch 1/25\n",
            "990/990 [==============================] - 31s 17ms/step - loss: 3.6794 - sparse_categorical_accuracy: 0.0674 - val_loss: 3.5498 - val_sparse_categorical_accuracy: 0.0978\n",
            "Epoch 2/25\n",
            "990/990 [==============================] - 20s 17ms/step - loss: 3.3145 - sparse_categorical_accuracy: 0.1304 - val_loss: 3.3072 - val_sparse_categorical_accuracy: 0.1289\n",
            "Epoch 3/25\n",
            "990/990 [==============================] - 19s 17ms/step - loss: 3.1727 - sparse_categorical_accuracy: 0.1569 - val_loss: 3.2236 - val_sparse_categorical_accuracy: 0.1422\n",
            "Epoch 4/25\n",
            "990/990 [==============================] - 21s 16ms/step - loss: 3.1005 - sparse_categorical_accuracy: 0.1729 - val_loss: 3.1683 - val_sparse_categorical_accuracy: 0.1644\n",
            "Epoch 5/25\n",
            "990/990 [==============================] - 18s 17ms/step - loss: 3.0506 - sparse_categorical_accuracy: 0.1823 - val_loss: 3.1403 - val_sparse_categorical_accuracy: 0.1778\n",
            "Epoch 6/25\n",
            "990/990 [==============================] - 20s 19ms/step - loss: 3.0121 - sparse_categorical_accuracy: 0.1920 - val_loss: 3.0811 - val_sparse_categorical_accuracy: 0.1689\n",
            "Epoch 7/25\n",
            "990/990 [==============================] - 20s 19ms/step - loss: 2.9792 - sparse_categorical_accuracy: 0.1993 - val_loss: 3.0799 - val_sparse_categorical_accuracy: 0.1756\n",
            "Epoch 8/25\n",
            "990/990 [==============================] - 17s 15ms/step - loss: 2.9505 - sparse_categorical_accuracy: 0.2056 - val_loss: 3.0170 - val_sparse_categorical_accuracy: 0.1733\n",
            "Epoch 9/25\n",
            "990/990 [==============================] - 19s 17ms/step - loss: 2.9255 - sparse_categorical_accuracy: 0.2117 - val_loss: 3.0278 - val_sparse_categorical_accuracy: 0.1867\n",
            "Epoch 10/25\n",
            "990/990 [==============================] - 17s 15ms/step - loss: 2.9017 - sparse_categorical_accuracy: 0.2180 - val_loss: 3.0085 - val_sparse_categorical_accuracy: 0.1733\n",
            "Epoch 11/25\n",
            "990/990 [==============================] - 20s 18ms/step - loss: 2.8805 - sparse_categorical_accuracy: 0.2224 - val_loss: 2.9706 - val_sparse_categorical_accuracy: 0.1867\n",
            "Epoch 12/25\n",
            "990/990 [==============================] - 18s 17ms/step - loss: 2.8615 - sparse_categorical_accuracy: 0.2270 - val_loss: 2.9552 - val_sparse_categorical_accuracy: 0.1956\n",
            "Epoch 13/25\n",
            "990/990 [==============================] - 19s 18ms/step - loss: 2.8448 - sparse_categorical_accuracy: 0.2308 - val_loss: 2.9682 - val_sparse_categorical_accuracy: 0.2044\n",
            "Epoch 14/25\n",
            "990/990 [==============================] - 16s 15ms/step - loss: 2.8307 - sparse_categorical_accuracy: 0.2343 - val_loss: 2.9474 - val_sparse_categorical_accuracy: 0.1800\n",
            "Epoch 15/25\n",
            "990/990 [==============================] - 17s 16ms/step - loss: 2.8153 - sparse_categorical_accuracy: 0.2378 - val_loss: 2.9403 - val_sparse_categorical_accuracy: 0.1956\n",
            "Epoch 16/25\n",
            "990/990 [==============================] - 17s 16ms/step - loss: 2.8012 - sparse_categorical_accuracy: 0.2412 - val_loss: 2.9181 - val_sparse_categorical_accuracy: 0.2022\n",
            "Epoch 17/25\n",
            "990/990 [==============================] - 18s 17ms/step - loss: 2.7888 - sparse_categorical_accuracy: 0.2434 - val_loss: 2.9207 - val_sparse_categorical_accuracy: 0.2000\n",
            "Epoch 18/25\n",
            "990/990 [==============================] - 19s 18ms/step - loss: 2.7786 - sparse_categorical_accuracy: 0.2464 - val_loss: 2.8815 - val_sparse_categorical_accuracy: 0.2222\n",
            "Epoch 19/25\n",
            "990/990 [==============================] - 17s 16ms/step - loss: 2.7652 - sparse_categorical_accuracy: 0.2488 - val_loss: 2.8947 - val_sparse_categorical_accuracy: 0.2089\n",
            "Epoch 20/25\n",
            "990/990 [==============================] - 19s 18ms/step - loss: 2.7574 - sparse_categorical_accuracy: 0.2511 - val_loss: 2.8822 - val_sparse_categorical_accuracy: 0.1911\n",
            "Epoch 21/25\n",
            "990/990 [==============================] - 19s 18ms/step - loss: 2.7456 - sparse_categorical_accuracy: 0.2535 - val_loss: 2.8746 - val_sparse_categorical_accuracy: 0.1956\n",
            "Epoch 22/25\n",
            "990/990 [==============================] - 18s 17ms/step - loss: 2.7377 - sparse_categorical_accuracy: 0.2556 - val_loss: 2.8590 - val_sparse_categorical_accuracy: 0.2089\n",
            "Epoch 23/25\n",
            "990/990 [==============================] - 18s 17ms/step - loss: 2.7292 - sparse_categorical_accuracy: 0.2574 - val_loss: 2.8488 - val_sparse_categorical_accuracy: 0.2133\n",
            "Epoch 24/25\n",
            "990/990 [==============================] - 17s 15ms/step - loss: 2.7201 - sparse_categorical_accuracy: 0.2597 - val_loss: 2.8365 - val_sparse_categorical_accuracy: 0.2089\n",
            "Epoch 25/25\n",
            "990/990 [==============================] - 17s 16ms/step - loss: 2.7129 - sparse_categorical_accuracy: 0.2614 - val_loss: 2.8515 - val_sparse_categorical_accuracy: 0.2133\n",
            "Total time used: 490.72747325897217 sec\n"
          ]
        }
      ]
    },
    {
      "cell_type": "markdown",
      "source": [
        "### Show performance"
      ],
      "metadata": {
        "id": "ZIdIe8qrqIfC"
      }
    },
    {
      "cell_type": "code",
      "source": [
        "history_dict_s = history_s.history\n",
        "print(history_dict_s.keys())"
      ],
      "metadata": {
        "colab": {
          "base_uri": "https://localhost:8080/"
        },
        "outputId": "470e3c6d-3abc-4d8c-a288-f2c6ee28c384",
        "id": "iO7xiZ5eqIfD"
      },
      "execution_count": null,
      "outputs": [
        {
          "output_type": "stream",
          "name": "stdout",
          "text": [
            "dict_keys(['loss', 'sparse_categorical_accuracy', 'val_loss', 'val_sparse_categorical_accuracy'])\n"
          ]
        }
      ]
    },
    {
      "cell_type": "markdown",
      "source": [
        "Loss"
      ],
      "metadata": {
        "id": "fILR_kvrqIfE"
      }
    },
    {
      "cell_type": "code",
      "source": [
        "train_loss_s = history_s.history['loss']\n",
        "val_loss_s = history_s.history['val_loss']\n",
        "\n",
        "x = np.arange(1, n_epoch + 1)\n",
        "plt.xlabel(\"epoches\")\n",
        "plt.ylabel(\"Loss\")\n",
        "plt.plot(x, train_loss_s)\n",
        "plt.plot(x, val_loss_s)\n",
        "plt.grid(True)\n",
        "plt.legend([\"Training data\", \"Validaton data\"], loc = \"upper left\")\n",
        "plt.savefig(\"/content/drive/MyDrive/DL/HW3/LeNet5_tf/static/LeNet5_loss_tf_static.png\")\n",
        "plt.show()"
      ],
      "metadata": {
        "colab": {
          "base_uri": "https://localhost:8080/",
          "height": 449
        },
        "outputId": "c7026ee0-94c5-458b-eeca-415841ae33b1",
        "id": "hR05EVIxqIfF"
      },
      "execution_count": null,
      "outputs": [
        {
          "output_type": "display_data",
          "data": {
            "text/plain": [
              "<Figure size 640x480 with 1 Axes>"
            ],
            "image/png": "[encoded data removed]"
          },
          "metadata": {}
        }
      ]
    },
    {
      "cell_type": "markdown",
      "source": [
        "Accuracy"
      ],
      "metadata": {
        "id": "z_kdfHT2qIfH"
      }
    },
    {
      "cell_type": "code",
      "source": [
        "train_acc_s = history_s.history['sparse_categorical_accuracy']\n",
        "val_acc_s = history_s.history['val_sparse_categorical_accuracy']\n",
        "\n",
        "x = np.arange(1, n_epoch + 1)\n",
        "plt.xlabel(\"epoches\")\n",
        "plt.ylabel(\"Accuracy\")\n",
        "plt.plot(x, train_acc_s)\n",
        "plt.plot(x, val_acc_s)\n",
        "plt.grid(True)\n",
        "plt.legend([\"Training data\", \"Validaton data\"], loc = \"upper left\")\n",
        "plt.savefig(\"/content/drive/MyDrive/DL/HW3/LeNet5_tf/static/LeNet5_acc_tf_static.png\")\n",
        "plt.show()"
      ],
      "metadata": {
        "colab": {
          "base_uri": "https://localhost:8080/",
          "height": 449
        },
        "outputId": "1cfdffe9-44a8-4621-e537-68ddeeba93dc",
        "id": "Lg9rCFoTqIfI"
      },
      "execution_count": null,
      "outputs": [
        {
          "output_type": "display_data",
          "data": {
            "text/plain": [
              "<Figure size 640x480 with 1 Axes>"
            ],
            "image/png": "[encoded data removed]"
          },
          "metadata": {}
        }
      ]
    },
    {
      "cell_type": "markdown",
      "source": [
        "Flop"
      ],
      "metadata": {
        "id": "DRmlgbCiqIfJ"
      }
    },
    {
      "cell_type": "code",
      "source": [
        "def get_flops(model):\n",
        "    run_meta = tf.compat.v1.RunMetadata()\n",
        "    opts = tf.compat.v1.profiler.ProfileOptionBuilder.float_operation()\n",
        "\n",
        "    flops = tf.compat.v1.profiler.profile(graph=tf.compat.v1.keras.backend.get_session().graph,\n",
        "                                          run_meta=run_meta, cmd='op', options=opts)\n",
        "\n",
        "    return flops.total_float_ops\n",
        "\n",
        "print(get_flops(lenet5_s))"
      ],
      "metadata": {
        "colab": {
          "base_uri": "https://localhost:8080/"
        },
        "id": "YvHFIAaaqIfK",
        "outputId": "201c15ab-c4ce-47ee-a19d-7a962737093a"
      },
      "execution_count": null,
      "outputs": [
        {
          "output_type": "stream",
          "name": "stdout",
          "text": [
            "0\n"
          ]
        }
      ]
    },
    {
      "cell_type": "markdown",
      "source": [
        "### Optional : Save the trained model"
      ],
      "metadata": {
        "id": "jRC7ZLkEqIfL"
      }
    },
    {
      "cell_type": "code",
      "source": [
        "PATH_lenet5_tf_s = '/content/drive/MyDrive/DL/HW3/LeNet5_tf/static/lenet5_tf_s'"
      ],
      "metadata": {
        "id": "dYzd55nnqIfM"
      },
      "execution_count": null,
      "outputs": []
    },
    {
      "cell_type": "code",
      "source": [
        "# Save the model.\n",
        "lenet5_s.save(PATH_lenet5_tf_s, save_format='tf')"
      ],
      "metadata": {
        "colab": {
          "base_uri": "https://localhost:8080/"
        },
        "id": "d8PGOwYKqIfN",
        "outputId": "078fbd96-d23f-4b9e-c284-c047d08d5916"
      },
      "execution_count": null,
      "outputs": [
        {
          "output_type": "stream",
          "name": "stderr",
          "text": [
            "WARNING:tensorflow:Skipping full serialization of Keras layer <keras.layers.convolutional.conv2d.Conv2D object at 0x7f1a90306500>, because it is not built.\n",
            "WARNING:absl:Found untraced functions such as _jit_compiled_convolution_op, _jit_compiled_convolution_op, _jit_compiled_convolution_op, _update_step_xla while saving (showing 4 of 4). These functions will not be directly callable after loading.\n"
          ]
        }
      ]
    },
    {
      "cell_type": "markdown",
      "source": [
        "## Test"
      ],
      "metadata": {
        "id": "cELhpLmFuecT"
      }
    },
    {
      "cell_type": "markdown",
      "source": [
        "### Load back in saved model"
      ],
      "metadata": {
        "id": "tZOStPKAuecb"
      }
    },
    {
      "cell_type": "code",
      "source": [
        "PATH_lenet5_tf_s = '/content/drive/MyDrive/DL/HW3/LeNet5_tf/static/lenet5_tf_s'\n",
        "lenet5_s = tf.keras.models.load_model(PATH_lenet5_tf_s)"
      ],
      "metadata": {
        "id": "XNuj77lPuecb"
      },
      "execution_count": 30,
      "outputs": []
    },
    {
      "cell_type": "markdown",
      "source": [
        "### Evaluate on testing set"
      ],
      "metadata": {
        "id": "L8Zwz5PCuecc"
      }
    },
    {
      "cell_type": "code",
      "source": [
        "test_loss_s, test_accuracy_s = lenet5_s.evaluate(test_dataset)\n",
        "\n",
        "print('Test Loss:', round(test_loss_s, 4))\n",
        "print('Test Accuracy:', round(test_accuracy_s, 4))"
      ],
      "metadata": {
        "colab": {
          "base_uri": "https://localhost:8080/"
        },
        "outputId": "f072078c-9ae5-44b8-e4a5-744bc9541274",
        "id": "SFjGIiZouecc"
      },
      "execution_count": null,
      "outputs": [
        {
          "output_type": "stream",
          "name": "stdout",
          "text": [
            "1/1 [==============================] - 1s 1s/step - loss: 2.8488 - sparse_categorical_accuracy: 0.2289\n",
            "Test Loss: 2.8488\n",
            "Test Accuracy: 0.2289\n"
          ]
        }
      ]
    },
    {
      "cell_type": "code",
      "source": [
        "t1 = time.time()\n",
        "prediction_s = lenet5_s.predict(test_dataset)\n",
        "print(\"Total time used:\", time.time() - t1, \"sec\")\n",
        "lenet5_test_pred_s = tf.argmax(prediction_s, axis=1).numpy()"
      ],
      "metadata": {
        "colab": {
          "base_uri": "https://localhost:8080/"
        },
        "outputId": "d5607a42-fdcd-4d3e-b688-8ed8552229e7",
        "id": "stjKUCgPuecd"
      },
      "execution_count": 31,
      "outputs": [
        {
          "output_type": "stream",
          "name": "stdout",
          "text": [
            "1/1 [==============================] - 0s 85ms/step\n",
            "Total time used: 0.09579825401306152 sec\n"
          ]
        }
      ]
    },
    {
      "cell_type": "code",
      "source": [
        "def answer(test_y, test_y_pred, data_name, output_name):\n",
        "  df = np.column_stack((test_y, test_y_pred))\n",
        "  test_result = pd.DataFrame(df, index=data_name, columns=['Answer','Prediction'])\n",
        "  test_result.to_csv('/content/drive/MyDrive/DL/HW3/LeNet5_tf/static/' + output_name + '_test_result_static.csv')\n",
        "  return test_result"
      ],
      "metadata": {
        "id": "VRIuDikeuecd"
      },
      "execution_count": null,
      "outputs": []
    },
    {
      "cell_type": "code",
      "source": [
        "output_name = 'LeNet5_tf'\n",
        "LeNet5_answer_s = answer(test_y, lenet5_test_pred_s, test_dir, output_name)\n",
        "LeNet5_answer_s"
      ],
      "metadata": {
        "colab": {
          "base_uri": "https://localhost:8080/",
          "height": 423
        },
        "outputId": "c8daca85-2e87-4e88-ac92-69b41864021a",
        "id": "2-f8XvCQuecd"
      },
      "execution_count": null,
      "outputs": [
        {
          "output_type": "execute_result",
          "data": {
            "text/plain": [
              "                                      Answer  Prediction\n",
              "images/n02111277/n02111277_9420.JPEG       0          48\n",
              "images/n02111277/n02111277_9422.JPEG       0          29\n",
              "images/n02111277/n02111277_9484.JPEG       0          46\n",
              "images/n02111277/n02111277_951.JPEG        0           0\n",
              "images/n02111277/n02111277_9518.JPEG       0          39\n",
              "...                                      ...         ...\n",
              "images/n02172182/n02172182_974.JPEG       49          49\n",
              "images/n02172182/n02172182_9765.JPEG      49          44\n",
              "images/n02172182/n02172182_9789.JPEG      49          46\n",
              "images/n02172182/n02172182_98.JPEG        49          46\n",
              "images/n02172182/n02172182_981.JPEG       49          39\n",
              "\n",
              "[450 rows x 2 columns]"
            ],
            "text/html": [
              "\n",
              "  <div id=\"df-7c79dc23-00b8-4b1f-984e-b9c4d8911b0e\">\n",
              "    <div class=\"colab-df-container\">\n",
              "      <div>\n",
              "<style scoped>\n",
              "    .dataframe tbody tr th:only-of-type {\n",
              "        vertical-align: middle;\n",
              "    }\n",
              "\n",
              "    .dataframe tbody tr th {\n",
              "        vertical-align: top;\n",
              "    }\n",
              "\n",
              "    .dataframe thead th {\n",
              "        text-align: right;\n",
              "    }\n",
              "</style>\n",
              "<table border=\"1\" class=\"dataframe\">\n",
              "  <thead>\n",
              "    <tr style=\"text-align: right;\">\n",
              "      <th></th>\n",
              "      <th>Answer</th>\n",
              "      <th>Prediction</th>\n",
              "    </tr>\n",
              "  </thead>\n",
              "  <tbody>\n",
              "    <tr>\n",
              "      <th>images/n02111277/n02111277_9420.JPEG</th>\n",
              "      <td>0</td>\n",
              "      <td>48</td>\n",
              "    </tr>\n",
              "    <tr>\n",
              "      <th>images/n02111277/n02111277_9422.JPEG</th>\n",
              "      <td>0</td>\n",
              "      <td>29</td>\n",
              "    </tr>\n",
              "    <tr>\n",
              "      <th>images/n02111277/n02111277_9484.JPEG</th>\n",
              "      <td>0</td>\n",
              "      <td>46</td>\n",
              "    </tr>\n",
              "    <tr>\n",
              "      <th>images/n02111277/n02111277_951.JPEG</th>\n",
              "      <td>0</td>\n",
              "      <td>0</td>\n",
              "    </tr>\n",
              "    <tr>\n",
              "      <th>images/n02111277/n02111277_9518.JPEG</th>\n",
              "      <td>0</td>\n",
              "      <td>39</td>\n",
              "    </tr>\n",
              "    <tr>\n",
              "      <th>...</th>\n",
              "      <td>...</td>\n",
              "      <td>...</td>\n",
              "    </tr>\n",
              "    <tr>\n",
              "      <th>images/n02172182/n02172182_974.JPEG</th>\n",
              "      <td>49</td>\n",
              "      <td>49</td>\n",
              "    </tr>\n",
              "    <tr>\n",
              "      <th>images/n02172182/n02172182_9765.JPEG</th>\n",
              "      <td>49</td>\n",
              "      <td>44</td>\n",
              "    </tr>\n",
              "    <tr>\n",
              "      <th>images/n02172182/n02172182_9789.JPEG</th>\n",
              "      <td>49</td>\n",
              "      <td>46</td>\n",
              "    </tr>\n",
              "    <tr>\n",
              "      <th>images/n02172182/n02172182_98.JPEG</th>\n",
              "      <td>49</td>\n",
              "      <td>46</td>\n",
              "    </tr>\n",
              "    <tr>\n",
              "      <th>images/n02172182/n02172182_981.JPEG</th>\n",
              "      <td>49</td>\n",
              "      <td>39</td>\n",
              "    </tr>\n",
              "  </tbody>\n",
              "</table>\n",
              "<p>450 rows × 2 columns</p>\n",
              "</div>\n",
              "      <button class=\"colab-df-convert\" onclick=\"convertToInteractive('df-7c79dc23-00b8-4b1f-984e-b9c4d8911b0e')\"\n",
              "              title=\"Convert this dataframe to an interactive table.\"\n",
              "              style=\"display:none;\">\n",
              "        \n",
              "  <svg xmlns=\"http://www.w3.org/2000/svg\" height=\"24px\"viewBox=\"0 0 24 24\"\n",
              "       width=\"24px\">\n",
              "    <path d=\"M0 0h24v24H0V0z\" fill=\"none\"/>\n",
              "    <path d=\"M18.56 5.44l.94 2.06.94-2.06 2.06-.94-2.06-.94-.94-2.06-.94 2.06-2.06.94zm-11 1L8.5 8.5l.94-2.06 2.06-.94-2.06-.94L8.5 2.5l-.94 2.06-2.06.94zm10 10l.94 2.06.94-2.06 2.06-.94-2.06-.94-.94-2.06-.94 2.06-2.06.94z\"/><path d=\"M17.41 7.96l-1.37-1.37c-.4-.4-.92-.59-1.43-.59-.52 0-1.04.2-1.43.59L10.3 9.45l-7.72 7.72c-.78.78-.78 2.05 0 2.83L4 21.41c.39.39.9.59 1.41.59.51 0 1.02-.2 1.41-.59l7.78-7.78 2.81-2.81c.8-.78.8-2.07 0-2.86zM5.41 20L4 18.59l7.72-7.72 1.47 1.35L5.41 20z\"/>\n",
              "  </svg>\n",
              "      </button>\n",
              "      \n",
              "  <style>\n",
              "    .colab-df-container {\n",
              "      display:flex;\n",
              "      flex-wrap:wrap;\n",
              "      gap: 12px;\n",
              "    }\n",
              "\n",
              "    .colab-df-convert {\n",
              "      background-color: #E8F0FE;\n",
              "      border: none;\n",
              "      border-radius: 50%;\n",
              "      cursor: pointer;\n",
              "      display: none;\n",
              "      fill: #1967D2;\n",
              "      height: 32px;\n",
              "      padding: 0 0 0 0;\n",
              "      width: 32px;\n",
              "    }\n",
              "\n",
              "    .colab-df-convert:hover {\n",
              "      background-color: #E2EBFA;\n",
              "      box-shadow: 0px 1px 2px rgba(60, 64, 67, 0.3), 0px 1px 3px 1px rgba(60, 64, 67, 0.15);\n",
              "      fill: #174EA6;\n",
              "    }\n",
              "\n",
              "    [theme=dark] .colab-df-convert {\n",
              "      background-color: #3B4455;\n",
              "      fill: #D2E3FC;\n",
              "    }\n",
              "\n",
              "    [theme=dark] .colab-df-convert:hover {\n",
              "      background-color: #434B5C;\n",
              "      box-shadow: 0px 1px 3px 1px rgba(0, 0, 0, 0.15);\n",
              "      filter: drop-shadow(0px 1px 2px rgba(0, 0, 0, 0.3));\n",
              "      fill: #FFFFFF;\n",
              "    }\n",
              "  </style>\n",
              "\n",
              "      <script>\n",
              "        const buttonEl =\n",
              "          document.querySelector('#df-7c79dc23-00b8-4b1f-984e-b9c4d8911b0e button.colab-df-convert');\n",
              "        buttonEl.style.display =\n",
              "          google.colab.kernel.accessAllowed ? 'block' : 'none';\n",
              "\n",
              "        async function convertToInteractive(key) {\n",
              "          const element = document.querySelector('#df-7c79dc23-00b8-4b1f-984e-b9c4d8911b0e');\n",
              "          const dataTable =\n",
              "            await google.colab.kernel.invokeFunction('convertToInteractive',\n",
              "                                                     [key], {});\n",
              "          if (!dataTable) return;\n",
              "\n",
              "          const docLinkHtml = 'Like what you see? Visit the ' +\n",
              "            '<a target=\"_blank\" href=https://colab.research.google.com/notebooks/data_table.ipynb>data table notebook</a>'\n",
              "            + ' to learn more about interactive tables.';\n",
              "          element.innerHTML = '';\n",
              "          dataTable['output_type'] = 'display_data';\n",
              "          await google.colab.output.renderOutput(dataTable, element);\n",
              "          const docLink = document.createElement('div');\n",
              "          docLink.innerHTML = docLinkHtml;\n",
              "          element.appendChild(docLink);\n",
              "        }\n",
              "      </script>\n",
              "    </div>\n",
              "  </div>\n",
              "  "
            ]
          },
          "metadata": {},
          "execution_count": 29
        }
      ]
    },
    {
      "cell_type": "markdown",
      "source": [
        "# Dynamic"
      ],
      "metadata": {
        "id": "ecihWna-vFb7"
      }
    },
    {
      "cell_type": "markdown",
      "source": [
        "### Dynamic LeNet5"
      ],
      "metadata": {
        "id": "zkMaMqE3vFcC"
      }
    },
    {
      "cell_type": "code",
      "source": [
        "class LeNet5_Dynamic(tf.keras.Model):\n",
        "    def __init__(self):\n",
        "        super(LeNet5_Dynamic, self).__init__(name='LeNet5_Dynamic', dynamic = True)\n",
        "        self.conv_layer_1 = tf.keras.layers.Conv2D(filters = 6, kernel_size = (5, 5), input_shape=(28, 28, 3), padding=\"valid\", activation='sigmoid')\n",
        "        self.pool_layer_1 = tf.keras.layers.MaxPool2D(2,2)\n",
        "        self.conv_layer_2 = tf.keras.layers.Conv2D(filters = 16, kernel_size = (5, 5), padding=\"valid\", activation='sigmoid')        \n",
        "        self.pool_layer_2 = tf.keras.layers.MaxPool2D(2,2)\n",
        "        self.conv_layer_3 = tf.keras.layers.Conv2D(filters = 120, kernel_size = (5, 5), padding=\"valid\", activation='sigmoid')        \n",
        "        self.fc_layer_1 = tf.keras.layers.Flatten()\n",
        "        self.fc_layer_2 = tf.keras.layers.Dense(84, activation=\"sigmoid\")\n",
        "        self.fc_layer_3 = tf.keras.layers.Dense(50, activation=\"softmax\")\n",
        "    \n",
        "    def call(self, inputs):\n",
        "        activation = self.conv_layer_1(inputs)\n",
        "        activation = self.pool_layer_1(activation)\n",
        "        activation = self.conv_layer_2(activation)\n",
        "        activation = self.pool_layer_2(activation)\n",
        "        activation = self.fc_layer_1(activation)\n",
        "        activation = self.fc_layer_2(activation)\n",
        "        output = self.fc_layer_3(activation)\n",
        "        return output"
      ],
      "metadata": {
        "id": "ER8xPHotvFcD"
      },
      "execution_count": null,
      "outputs": []
    },
    {
      "cell_type": "code",
      "source": [
        "lenet5_d = LeNet5_Dynamic()"
      ],
      "metadata": {
        "id": "57BHZevavFcD"
      },
      "execution_count": null,
      "outputs": []
    },
    {
      "cell_type": "markdown",
      "source": [
        "## Train"
      ],
      "metadata": {
        "id": "8bh9x9z1vFcD"
      }
    },
    {
      "cell_type": "markdown",
      "source": [
        "### Define a loss function and optimizer"
      ],
      "metadata": {
        "id": "8SOF4XFzvFcD"
      }
    },
    {
      "cell_type": "code",
      "source": [
        "lenet5_d.compile(optimizer='adam',\n",
        "              loss=tf.keras.losses.SparseCategoricalCrossentropy(from_logits=False),\n",
        "              metrics=['sparse_categorical_accuracy'])"
      ],
      "metadata": {
        "id": "JlhEu18uvFcD"
      },
      "execution_count": null,
      "outputs": []
    },
    {
      "cell_type": "markdown",
      "source": [
        "### Train the network"
      ],
      "metadata": {
        "id": "8dL00tY3vFcE"
      }
    },
    {
      "cell_type": "code",
      "source": [
        "n_epoch = 25\n",
        "csv_logger_d = CSVLogger('/content/drive/MyDrive/DL/HW3/LeNet5_tf/dynamic/training_log_dynamic.csv')\n",
        "\n",
        "t1=time.time()\n",
        "history_d = lenet5_d.fit(train_dataset, validation_data=valid_dataset, epochs=n_epoch, callbacks=[csv_logger_d])\n",
        "print(\"Total time used:\", time.time() - t1, \"sec\")"
      ],
      "metadata": {
        "colab": {
          "base_uri": "https://localhost:8080/"
        },
        "outputId": "0c987ddc-f51d-4a46-b0fc-c7778d3a46f4",
        "id": "9Uc_XyKVvFcE"
      },
      "execution_count": null,
      "outputs": [
        {
          "output_type": "stream",
          "name": "stdout",
          "text": [
            "Epoch 1/25\n"
          ]
        },
        {
          "output_type": "stream",
          "name": "stderr",
          "text": [
            "WARNING:tensorflow:5 out of the last 5 calls to <function _BaseOptimizer._update_step_xla at 0x7f1a8b2dc940> triggered tf.function retracing. Tracing is expensive and the excessive number of tracings could be due to (1) creating @tf.function repeatedly in a loop, (2) passing tensors with different shapes, (3) passing Python objects instead of tensors. For (1), please define your @tf.function outside of the loop. For (2), @tf.function has reduce_retracing=True option that can avoid unnecessary retracing. For (3), please refer to https://www.tensorflow.org/guide/function#controlling_retracing and https://www.tensorflow.org/api_docs/python/tf/function for  more details.\n",
            "WARNING:tensorflow:6 out of the last 6 calls to <function _BaseOptimizer._update_step_xla at 0x7f1a8b2dc940> triggered tf.function retracing. Tracing is expensive and the excessive number of tracings could be due to (1) creating @tf.function repeatedly in a loop, (2) passing tensors with different shapes, (3) passing Python objects instead of tensors. For (1), please define your @tf.function outside of the loop. For (2), @tf.function has reduce_retracing=True option that can avoid unnecessary retracing. For (3), please refer to https://www.tensorflow.org/guide/function#controlling_retracing and https://www.tensorflow.org/api_docs/python/tf/function for  more details.\n"
          ]
        },
        {
          "output_type": "stream",
          "name": "stdout",
          "text": [
            "990/990 [==============================] - 74s 71ms/step - loss: 3.6734 - sparse_categorical_accuracy: 0.0689 - val_loss: 3.5558 - val_sparse_categorical_accuracy: 0.0889\n",
            "Epoch 2/25\n",
            "990/990 [==============================] - 63s 62ms/step - loss: 3.3030 - sparse_categorical_accuracy: 0.1337 - val_loss: 3.3065 - val_sparse_categorical_accuracy: 0.1311\n",
            "Epoch 3/25\n",
            "990/990 [==============================] - 61s 59ms/step - loss: 3.1579 - sparse_categorical_accuracy: 0.1607 - val_loss: 3.2236 - val_sparse_categorical_accuracy: 0.1244\n",
            "Epoch 4/25\n",
            "990/990 [==============================] - 59s 58ms/step - loss: 3.0901 - sparse_categorical_accuracy: 0.1751 - val_loss: 3.2108 - val_sparse_categorical_accuracy: 0.1578\n",
            "Epoch 5/25\n",
            "990/990 [==============================] - 57s 56ms/step - loss: 3.0408 - sparse_categorical_accuracy: 0.1858 - val_loss: 3.1322 - val_sparse_categorical_accuracy: 0.1556\n",
            "Epoch 6/25\n",
            "990/990 [==============================] - 63s 62ms/step - loss: 3.0006 - sparse_categorical_accuracy: 0.1947 - val_loss: 3.1053 - val_sparse_categorical_accuracy: 0.1622\n",
            "Epoch 7/25\n",
            "990/990 [==============================] - 60s 59ms/step - loss: 2.9672 - sparse_categorical_accuracy: 0.2011 - val_loss: 3.0604 - val_sparse_categorical_accuracy: 0.1733\n",
            "Epoch 8/25\n",
            "990/990 [==============================] - 63s 62ms/step - loss: 2.9371 - sparse_categorical_accuracy: 0.2083 - val_loss: 3.0260 - val_sparse_categorical_accuracy: 0.1844\n",
            "Epoch 9/25\n",
            "990/990 [==============================] - 73s 72ms/step - loss: 2.9115 - sparse_categorical_accuracy: 0.2141 - val_loss: 3.0017 - val_sparse_categorical_accuracy: 0.1867\n",
            "Epoch 10/25\n",
            "990/990 [==============================] - 63s 62ms/step - loss: 2.8873 - sparse_categorical_accuracy: 0.2201 - val_loss: 2.9833 - val_sparse_categorical_accuracy: 0.1911\n",
            "Epoch 11/25\n",
            "990/990 [==============================] - 57s 56ms/step - loss: 2.8662 - sparse_categorical_accuracy: 0.2241 - val_loss: 2.9749 - val_sparse_categorical_accuracy: 0.2000\n",
            "Epoch 12/25\n",
            "990/990 [==============================] - 63s 62ms/step - loss: 2.8483 - sparse_categorical_accuracy: 0.2301 - val_loss: 2.9903 - val_sparse_categorical_accuracy: 0.1889\n",
            "Epoch 13/25\n",
            "990/990 [==============================] - 64s 63ms/step - loss: 2.8320 - sparse_categorical_accuracy: 0.2331 - val_loss: 2.9424 - val_sparse_categorical_accuracy: 0.1933\n",
            "Epoch 14/25\n",
            "990/990 [==============================] - 61s 59ms/step - loss: 2.8137 - sparse_categorical_accuracy: 0.2373 - val_loss: 2.9275 - val_sparse_categorical_accuracy: 0.1978\n",
            "Epoch 15/25\n",
            "990/990 [==============================] - 62s 61ms/step - loss: 2.7991 - sparse_categorical_accuracy: 0.2402 - val_loss: 2.9344 - val_sparse_categorical_accuracy: 0.1911\n",
            "Epoch 16/25\n",
            "990/990 [==============================] - 58s 58ms/step - loss: 2.7874 - sparse_categorical_accuracy: 0.2429 - val_loss: 2.9194 - val_sparse_categorical_accuracy: 0.2067\n",
            "Epoch 17/25\n",
            "990/990 [==============================] - 60s 59ms/step - loss: 2.7735 - sparse_categorical_accuracy: 0.2468 - val_loss: 2.9135 - val_sparse_categorical_accuracy: 0.2000\n",
            "Epoch 18/25\n",
            "990/990 [==============================] - 67s 66ms/step - loss: 2.7620 - sparse_categorical_accuracy: 0.2498 - val_loss: 2.9241 - val_sparse_categorical_accuracy: 0.1933\n",
            "Epoch 19/25\n",
            "990/990 [==============================] - 68s 67ms/step - loss: 2.7511 - sparse_categorical_accuracy: 0.2511 - val_loss: 2.8896 - val_sparse_categorical_accuracy: 0.2000\n",
            "Epoch 20/25\n",
            "990/990 [==============================] - 85s 83ms/step - loss: 2.7398 - sparse_categorical_accuracy: 0.2541 - val_loss: 2.8940 - val_sparse_categorical_accuracy: 0.2067\n",
            "Epoch 21/25\n",
            "990/990 [==============================] - 69s 69ms/step - loss: 2.7302 - sparse_categorical_accuracy: 0.2578 - val_loss: 2.8946 - val_sparse_categorical_accuracy: 0.2044\n",
            "Epoch 22/25\n",
            "990/990 [==============================] - 97s 96ms/step - loss: 2.7221 - sparse_categorical_accuracy: 0.2584 - val_loss: 2.8951 - val_sparse_categorical_accuracy: 0.1978\n",
            "Epoch 23/25\n",
            "990/990 [==============================] - 116s 114ms/step - loss: 2.7116 - sparse_categorical_accuracy: 0.2607 - val_loss: 2.8840 - val_sparse_categorical_accuracy: 0.1978\n",
            "Epoch 24/25\n",
            "990/990 [==============================] - 79s 78ms/step - loss: 2.7034 - sparse_categorical_accuracy: 0.2626 - val_loss: 2.8707 - val_sparse_categorical_accuracy: 0.1956\n",
            "Epoch 25/25\n",
            "990/990 [==============================] - 68s 68ms/step - loss: 2.6944 - sparse_categorical_accuracy: 0.2650 - val_loss: 2.8548 - val_sparse_categorical_accuracy: 0.1978\n",
            "Total time used: 1834.731167793274 sec\n"
          ]
        }
      ]
    },
    {
      "cell_type": "markdown",
      "source": [
        "### Show performance"
      ],
      "metadata": {
        "id": "xBgpmDk_vFcE"
      }
    },
    {
      "cell_type": "code",
      "source": [
        "history_dict_d = history_d.history\n",
        "print(history_dict_d.keys())"
      ],
      "metadata": {
        "colab": {
          "base_uri": "https://localhost:8080/"
        },
        "outputId": "1ea08583-7b8d-4df7-fed9-a96f7c3269c7",
        "id": "0-3mbxVyvFcE"
      },
      "execution_count": null,
      "outputs": [
        {
          "output_type": "stream",
          "name": "stdout",
          "text": [
            "dict_keys(['loss', 'sparse_categorical_accuracy', 'val_loss', 'val_sparse_categorical_accuracy'])\n"
          ]
        }
      ]
    },
    {
      "cell_type": "markdown",
      "source": [
        "Loss"
      ],
      "metadata": {
        "id": "H2-fVUTFvFcE"
      }
    },
    {
      "cell_type": "code",
      "source": [
        "train_loss_d = history_d.history['loss']\n",
        "val_loss_d = history_d.history['val_loss']\n",
        "\n",
        "x = np.arange(1, n_epoch + 1)\n",
        "plt.xlabel(\"epoches\")\n",
        "plt.ylabel(\"Loss\")\n",
        "plt.plot(x, train_loss_d)\n",
        "plt.plot(x, val_loss_d)\n",
        "plt.grid(True)\n",
        "plt.legend([\"Training data\", \"Validaton data\"], loc = \"upper left\")\n",
        "plt.savefig(\"/content/drive/MyDrive/DL/HW3/LeNet5_tf/dynamic/LeNet5_loss_tf_dynamic.png\")\n",
        "plt.show()"
      ],
      "metadata": {
        "colab": {
          "base_uri": "https://localhost:8080/",
          "height": 449
        },
        "outputId": "6d96f3b9-da7f-4172-b450-cd1e9f811ac6",
        "id": "DT0Pe8nYvFcF"
      },
      "execution_count": null,
      "outputs": [
        {
          "output_type": "display_data",
          "data": {
            "text/plain": [
              "<Figure size 640x480 with 1 Axes>"
            ],
            "image/png": "[encoded data removed]"
          },
          "metadata": {}
        }
      ]
    },
    {
      "cell_type": "markdown",
      "source": [
        "Accuracy"
      ],
      "metadata": {
        "id": "_jIwWOM_vFcF"
      }
    },
    {
      "cell_type": "code",
      "source": [
        "train_acc_d = history_d.history['sparse_categorical_accuracy']\n",
        "val_acc_d = history_d.history['val_sparse_categorical_accuracy']\n",
        "\n",
        "x = np.arange(1, n_epoch + 1)\n",
        "plt.xlabel(\"epoches\")\n",
        "plt.ylabel(\"Accuracy\")\n",
        "plt.plot(x, train_acc_d)\n",
        "plt.plot(x, val_acc_d)\n",
        "plt.grid(True)\n",
        "plt.legend([\"Training data\", \"Validaton data\"], loc = \"upper left\")\n",
        "plt.savefig(\"/content/drive/MyDrive/DL/HW3/LeNet5_tf/dynamic/LeNet5_acc_tf_dynamic.png\")\n",
        "plt.show()"
      ],
      "metadata": {
        "colab": {
          "base_uri": "https://localhost:8080/",
          "height": 449
        },
        "outputId": "1c514dc4-e01e-4ce5-a80a-aebabecaf501",
        "id": "96A8DhGZvFcF"
      },
      "execution_count": null,
      "outputs": [
        {
          "output_type": "display_data",
          "data": {
            "text/plain": [
              "<Figure size 640x480 with 1 Axes>"
            ],
            "image/png": "[encoded data removed]"
          },
          "metadata": {}
        }
      ]
    },
    {
      "cell_type": "markdown",
      "source": [
        "Flop"
      ],
      "metadata": {
        "id": "F0bJFMnLvFcF"
      }
    },
    {
      "cell_type": "code",
      "source": [
        "def count_flops(model):\n",
        "    signature = profiler.ProfileOptionBuilder.float_operation()\n",
        "    flops = profiler.profile(tf.profiler.experimental.stop(), run_meta=signature)\n",
        "    return flops.total_float_ops\n",
        "\n",
        "flops = count_flops(lenet5_d)\n",
        "print(f\"Total FLOPs: {flops / 10**9} G FLOPs\")"
      ],
      "metadata": {
        "id": "y4xtiiOovFcF"
      },
      "execution_count": null,
      "outputs": []
    },
    {
      "cell_type": "markdown",
      "source": [
        "### Optional : Save the trained model"
      ],
      "metadata": {
        "id": "Bx4GYRsIvFcG"
      }
    },
    {
      "cell_type": "code",
      "source": [
        "PATH_lenet5_tf_d = '/content/drive/MyDrive/DL/HW3/LeNet5_tf/dynamic/lenet5_tf_d'"
      ],
      "metadata": {
        "id": "e1F-gCsavFcG"
      },
      "execution_count": null,
      "outputs": []
    },
    {
      "cell_type": "code",
      "source": [
        "# Save the model.\n",
        "lenet5_d.save(PATH_lenet5_tf_d)"
      ],
      "metadata": {
        "colab": {
          "base_uri": "https://localhost:8080/"
        },
        "id": "2m01cgGAvFcG",
        "outputId": "29b787f3-0d72-40d3-f5c0-7e63496c45e1"
      },
      "execution_count": null,
      "outputs": [
        {
          "output_type": "stream",
          "name": "stderr",
          "text": [
            "WARNING:tensorflow:Skipping full serialization of Keras layer <keras.layers.convolutional.conv2d.Conv2D object at 0x7f1a8b394a60>, because it is not built.\n",
            "WARNING:absl:Found untraced functions such as _jit_compiled_convolution_op, _jit_compiled_convolution_op, _jit_compiled_convolution_op while saving (showing 3 of 3). These functions will not be directly callable after loading.\n"
          ]
        }
      ]
    },
    {
      "cell_type": "markdown",
      "source": [
        "## Test"
      ],
      "metadata": {
        "id": "5DwcbzORvFcG"
      }
    },
    {
      "cell_type": "markdown",
      "source": [
        "### Load back in saved model"
      ],
      "metadata": {
        "id": "BJMQzDWfvFcG"
      }
    },
    {
      "cell_type": "code",
      "source": [
        "PATH_lenet5_tf_d = '/content/drive/MyDrive/DL/HW3/LeNet5_tf/dynamic/lenet5_tf_d'\n",
        "lenet5_d = tf.keras.models.load_model(PATH_lenet5_tf_d)"
      ],
      "metadata": {
        "id": "pGZwTZbMvFcG"
      },
      "execution_count": 32,
      "outputs": []
    },
    {
      "cell_type": "markdown",
      "source": [
        "### Evaluate on testing set"
      ],
      "metadata": {
        "id": "NbQMWA7CvFcG"
      }
    },
    {
      "cell_type": "code",
      "source": [
        "test_loss_d, test_accuracy_d = lenet5_d.evaluate(test_dataset)\n",
        "\n",
        "print('Test Loss:', round(test_loss_d, 4))\n",
        "print('Test Accuracy:', round(test_accuracy_d, 4))"
      ],
      "metadata": {
        "colab": {
          "base_uri": "https://localhost:8080/"
        },
        "outputId": "f67b5bce-22d2-4281-94dc-7e05a839502e",
        "id": "HSmi-tCZvFcH"
      },
      "execution_count": null,
      "outputs": [
        {
          "output_type": "stream",
          "name": "stdout",
          "text": [
            "1/1 [==============================] - 1s 902ms/step - loss: 2.8465 - sparse_categorical_accuracy: 0.2444\n",
            "Test Loss: 2.8465\n",
            "Test Accuracy: 0.2444\n"
          ]
        }
      ]
    },
    {
      "cell_type": "code",
      "source": [
        "t1 = time.time()\n",
        "prediction_d = lenet5_d.predict(test_dataset)\n",
        "print(\"Total time used:\", time.time() - t1, \"sec\")\n",
        "lenet5_test_pred_d = tf.argmax(prediction_d, axis=1).numpy()"
      ],
      "metadata": {
        "colab": {
          "base_uri": "https://localhost:8080/"
        },
        "outputId": "6c2f4b06-e528-4b52-9c6a-034872adb446",
        "id": "rs-Z-45tvFcH"
      },
      "execution_count": 33,
      "outputs": [
        {
          "output_type": "stream",
          "name": "stdout",
          "text": [
            "1/1 [==============================] - 0s 78ms/step\n",
            "Total time used: 0.08969545364379883 sec\n"
          ]
        }
      ]
    },
    {
      "cell_type": "code",
      "source": [
        "def answer(test_y, test_y_pred, data_name, output_name):\n",
        "  df = np.column_stack((test_y, test_y_pred))\n",
        "  test_result = pd.DataFrame(df, index=data_name, columns=['Answer','Prediction'])\n",
        "  test_result.to_csv('/content/drive/MyDrive/DL/HW3/LeNet5_tf/dynamic/' + output_name + '_test_result_dynamic.csv')\n",
        "  return test_result"
      ],
      "metadata": {
        "id": "RhXTRR3hvFcH"
      },
      "execution_count": null,
      "outputs": []
    },
    {
      "cell_type": "code",
      "source": [
        "output_name = 'LeNet5_tf'\n",
        "LeNet5_answer_d = answer(test_y, lenet5_test_pred_d, test_dir, output_name)\n",
        "LeNet5_answer_d"
      ],
      "metadata": {
        "colab": {
          "base_uri": "https://localhost:8080/",
          "height": 423
        },
        "outputId": "77f22d6b-9ee4-432a-d3fe-3c14715c724a",
        "id": "7_kE0QYBvFcH"
      },
      "execution_count": null,
      "outputs": [
        {
          "output_type": "execute_result",
          "data": {
            "text/plain": [
              "                                      Answer  Prediction\n",
              "images/n02111277/n02111277_9420.JPEG       0          48\n",
              "images/n02111277/n02111277_9422.JPEG       0          31\n",
              "images/n02111277/n02111277_9484.JPEG       0           5\n",
              "images/n02111277/n02111277_951.JPEG        0           0\n",
              "images/n02111277/n02111277_9518.JPEG       0          46\n",
              "...                                      ...         ...\n",
              "images/n02172182/n02172182_974.JPEG       49          49\n",
              "images/n02172182/n02172182_9765.JPEG      49          44\n",
              "images/n02172182/n02172182_9789.JPEG      49          49\n",
              "images/n02172182/n02172182_98.JPEG        49          46\n",
              "images/n02172182/n02172182_981.JPEG       49          39\n",
              "\n",
              "[450 rows x 2 columns]"
            ],
            "text/html": [
              "\n",
              "  <div id=\"df-5bf68ad4-1eba-4689-b934-b199f5a7cf25\">\n",
              "    <div class=\"colab-df-container\">\n",
              "      <div>\n",
              "<style scoped>\n",
              "    .dataframe tbody tr th:only-of-type {\n",
              "        vertical-align: middle;\n",
              "    }\n",
              "\n",
              "    .dataframe tbody tr th {\n",
              "        vertical-align: top;\n",
              "    }\n",
              "\n",
              "    .dataframe thead th {\n",
              "        text-align: right;\n",
              "    }\n",
              "</style>\n",
              "<table border=\"1\" class=\"dataframe\">\n",
              "  <thead>\n",
              "    <tr style=\"text-align: right;\">\n",
              "      <th></th>\n",
              "      <th>Answer</th>\n",
              "      <th>Prediction</th>\n",
              "    </tr>\n",
              "  </thead>\n",
              "  <tbody>\n",
              "    <tr>\n",
              "      <th>images/n02111277/n02111277_9420.JPEG</th>\n",
              "      <td>0</td>\n",
              "      <td>48</td>\n",
              "    </tr>\n",
              "    <tr>\n",
              "      <th>images/n02111277/n02111277_9422.JPEG</th>\n",
              "      <td>0</td>\n",
              "      <td>31</td>\n",
              "    </tr>\n",
              "    <tr>\n",
              "      <th>images/n02111277/n02111277_9484.JPEG</th>\n",
              "      <td>0</td>\n",
              "      <td>5</td>\n",
              "    </tr>\n",
              "    <tr>\n",
              "      <th>images/n02111277/n02111277_951.JPEG</th>\n",
              "      <td>0</td>\n",
              "      <td>0</td>\n",
              "    </tr>\n",
              "    <tr>\n",
              "      <th>images/n02111277/n02111277_9518.JPEG</th>\n",
              "      <td>0</td>\n",
              "      <td>46</td>\n",
              "    </tr>\n",
              "    <tr>\n",
              "      <th>...</th>\n",
              "      <td>...</td>\n",
              "      <td>...</td>\n",
              "    </tr>\n",
              "    <tr>\n",
              "      <th>images/n02172182/n02172182_974.JPEG</th>\n",
              "      <td>49</td>\n",
              "      <td>49</td>\n",
              "    </tr>\n",
              "    <tr>\n",
              "      <th>images/n02172182/n02172182_9765.JPEG</th>\n",
              "      <td>49</td>\n",
              "      <td>44</td>\n",
              "    </tr>\n",
              "    <tr>\n",
              "      <th>images/n02172182/n02172182_9789.JPEG</th>\n",
              "      <td>49</td>\n",
              "      <td>49</td>\n",
              "    </tr>\n",
              "    <tr>\n",
              "      <th>images/n02172182/n02172182_98.JPEG</th>\n",
              "      <td>49</td>\n",
              "      <td>46</td>\n",
              "    </tr>\n",
              "    <tr>\n",
              "      <th>images/n02172182/n02172182_981.JPEG</th>\n",
              "      <td>49</td>\n",
              "      <td>39</td>\n",
              "    </tr>\n",
              "  </tbody>\n",
              "</table>\n",
              "<p>450 rows × 2 columns</p>\n",
              "</div>\n",
              "      <button class=\"colab-df-convert\" onclick=\"convertToInteractive('df-5bf68ad4-1eba-4689-b934-b199f5a7cf25')\"\n",
              "              title=\"Convert this dataframe to an interactive table.\"\n",
              "              style=\"display:none;\">\n",
              "        \n",
              "  <svg xmlns=\"http://www.w3.org/2000/svg\" height=\"24px\"viewBox=\"0 0 24 24\"\n",
              "       width=\"24px\">\n",
              "    <path d=\"M0 0h24v24H0V0z\" fill=\"none\"/>\n",
              "    <path d=\"M18.56 5.44l.94 2.06.94-2.06 2.06-.94-2.06-.94-.94-2.06-.94 2.06-2.06.94zm-11 1L8.5 8.5l.94-2.06 2.06-.94-2.06-.94L8.5 2.5l-.94 2.06-2.06.94zm10 10l.94 2.06.94-2.06 2.06-.94-2.06-.94-.94-2.06-.94 2.06-2.06.94z\"/><path d=\"M17.41 7.96l-1.37-1.37c-.4-.4-.92-.59-1.43-.59-.52 0-1.04.2-1.43.59L10.3 9.45l-7.72 7.72c-.78.78-.78 2.05 0 2.83L4 21.41c.39.39.9.59 1.41.59.51 0 1.02-.2 1.41-.59l7.78-7.78 2.81-2.81c.8-.78.8-2.07 0-2.86zM5.41 20L4 18.59l7.72-7.72 1.47 1.35L5.41 20z\"/>\n",
              "  </svg>\n",
              "      </button>\n",
              "      \n",
              "  <style>\n",
              "    .colab-df-container {\n",
              "      display:flex;\n",
              "      flex-wrap:wrap;\n",
              "      gap: 12px;\n",
              "    }\n",
              "\n",
              "    .colab-df-convert {\n",
              "      background-color: #E8F0FE;\n",
              "      border: none;\n",
              "      border-radius: 50%;\n",
              "      cursor: pointer;\n",
              "      display: none;\n",
              "      fill: #1967D2;\n",
              "      height: 32px;\n",
              "      padding: 0 0 0 0;\n",
              "      width: 32px;\n",
              "    }\n",
              "\n",
              "    .colab-df-convert:hover {\n",
              "      background-color: #E2EBFA;\n",
              "      box-shadow: 0px 1px 2px rgba(60, 64, 67, 0.3), 0px 1px 3px 1px rgba(60, 64, 67, 0.15);\n",
              "      fill: #174EA6;\n",
              "    }\n",
              "\n",
              "    [theme=dark] .colab-df-convert {\n",
              "      background-color: #3B4455;\n",
              "      fill: #D2E3FC;\n",
              "    }\n",
              "\n",
              "    [theme=dark] .colab-df-convert:hover {\n",
              "      background-color: #434B5C;\n",
              "      box-shadow: 0px 1px 3px 1px rgba(0, 0, 0, 0.15);\n",
              "      filter: drop-shadow(0px 1px 2px rgba(0, 0, 0, 0.3));\n",
              "      fill: #FFFFFF;\n",
              "    }\n",
              "  </style>\n",
              "\n",
              "      <script>\n",
              "        const buttonEl =\n",
              "          document.querySelector('#df-5bf68ad4-1eba-4689-b934-b199f5a7cf25 button.colab-df-convert');\n",
              "        buttonEl.style.display =\n",
              "          google.colab.kernel.accessAllowed ? 'block' : 'none';\n",
              "\n",
              "        async function convertToInteractive(key) {\n",
              "          const element = document.querySelector('#df-5bf68ad4-1eba-4689-b934-b199f5a7cf25');\n",
              "          const dataTable =\n",
              "            await google.colab.kernel.invokeFunction('convertToInteractive',\n",
              "                                                     [key], {});\n",
              "          if (!dataTable) return;\n",
              "\n",
              "          const docLinkHtml = 'Like what you see? Visit the ' +\n",
              "            '<a target=\"_blank\" href=https://colab.research.google.com/notebooks/data_table.ipynb>data table notebook</a>'\n",
              "            + ' to learn more about interactive tables.';\n",
              "          element.innerHTML = '';\n",
              "          dataTable['output_type'] = 'display_data';\n",
              "          await google.colab.output.renderOutput(dataTable, element);\n",
              "          const docLink = document.createElement('div');\n",
              "          docLink.innerHTML = docLinkHtml;\n",
              "          element.appendChild(docLink);\n",
              "        }\n",
              "      </script>\n",
              "    </div>\n",
              "  </div>\n",
              "  "
            ]
          },
          "metadata": {},
          "execution_count": 44
        }
      ]
    },
    {
      "cell_type": "markdown",
      "source": [
        "# Model compression"
      ],
      "metadata": {
        "id": "-BMrDc7ZBx7U"
      }
    },
    {
      "cell_type": "markdown",
      "source": [
        "## Quantization"
      ],
      "metadata": {
        "id": "YJpB97OGEmlt"
      }
    },
    {
      "cell_type": "code",
      "source": [
        "lenet5 = LeNet5()\n",
        "lenet5_q = tfmot.quantization.keras.quantize_model(lenet5)\n",
        "lenet5_q.summary()"
      ],
      "metadata": {
        "colab": {
          "base_uri": "https://localhost:8080/"
        },
        "id": "V65IC69qB0qa",
        "outputId": "99d1312e-c17b-4d3a-a313-720e28b6275e"
      },
      "execution_count": 17,
      "outputs": [
        {
          "output_type": "stream",
          "name": "stdout",
          "text": [
            "Model: \"sequential\"\n",
            "_________________________________________________________________\n",
            " Layer (type)                Output Shape              Param #   \n",
            "=================================================================\n",
            " quantize_layer (QuantizeLay  (None, 28, 28, 3)        3         \n",
            " er)                                                             \n",
            "                                                                 \n",
            " quant_conv2d (QuantizeWrapp  (None, 24, 24, 6)        471       \n",
            " erV2)                                                           \n",
            "                                                                 \n",
            " quant_max_pooling2d (Quanti  (None, 12, 12, 6)        1         \n",
            " zeWrapperV2)                                                    \n",
            "                                                                 \n",
            " quant_conv2d_1 (QuantizeWra  (None, 8, 8, 16)         2451      \n",
            " pperV2)                                                         \n",
            "                                                                 \n",
            " quant_max_pooling2d_1 (Quan  (None, 4, 4, 16)         1         \n",
            " tizeWrapperV2)                                                  \n",
            "                                                                 \n",
            " quant_flatten (QuantizeWrap  (None, 256)              1         \n",
            " perV2)                                                          \n",
            "                                                                 \n",
            " quant_dense (QuantizeWrappe  (None, 120)              30845     \n",
            " rV2)                                                            \n",
            "                                                                 \n",
            " quant_dense_1 (QuantizeWrap  (None, 84)               10169     \n",
            " perV2)                                                          \n",
            "                                                                 \n",
            " quant_dense_2 (QuantizeWrap  (None, 50)               4255      \n",
            " perV2)                                                          \n",
            "                                                                 \n",
            "=================================================================\n",
            "Total params: 48,197\n",
            "Trainable params: 48,126\n",
            "Non-trainable params: 71\n",
            "_________________________________________________________________\n"
          ]
        }
      ]
    },
    {
      "cell_type": "markdown",
      "source": [
        "## Train"
      ],
      "metadata": {
        "id": "FPd9WgVdFB2B"
      }
    },
    {
      "cell_type": "markdown",
      "source": [
        "### Define a loss function and optimizer"
      ],
      "metadata": {
        "id": "6BfQNxi3FB2J"
      }
    },
    {
      "cell_type": "code",
      "source": [
        "lenet5_q.compile(optimizer='adam',\n",
        "              loss=tf.keras.losses.SparseCategoricalCrossentropy(from_logits=False),\n",
        "              metrics=['sparse_categorical_accuracy'])"
      ],
      "metadata": {
        "id": "ViD_qlBbFB2K"
      },
      "execution_count": 18,
      "outputs": []
    },
    {
      "cell_type": "markdown",
      "source": [
        "### Train the network"
      ],
      "metadata": {
        "id": "7e0cGguIFB2K"
      }
    },
    {
      "cell_type": "code",
      "source": [
        "n_epoch = 25\n",
        "csv_logger_q = CSVLogger('/content/drive/MyDrive/DL/HW3/LeNet5_tf/quantization/training_log_q.csv')\n",
        "\n",
        "t1=time.time()\n",
        "history_q = lenet5_q.fit(train_dataset, validation_data=valid_dataset, epochs=n_epoch, callbacks=[csv_logger_q])\n",
        "print(\"Total time used:\", time.time() - t1, \"sec\")"
      ],
      "metadata": {
        "colab": {
          "base_uri": "https://localhost:8080/"
        },
        "outputId": "bf58b153-4792-4b20-9f7e-8d6f2926d404",
        "id": "0hpdX2j8FB2K"
      },
      "execution_count": 19,
      "outputs": [
        {
          "output_type": "stream",
          "name": "stdout",
          "text": [
            "Epoch 1/25\n",
            "990/990 [==============================] - 43s 28ms/step - loss: 3.6760 - sparse_categorical_accuracy: 0.0648 - val_loss: 3.5544 - val_sparse_categorical_accuracy: 0.0822\n",
            "Epoch 2/25\n",
            "990/990 [==============================] - 20s 17ms/step - loss: 3.3685 - sparse_categorical_accuracy: 0.1170 - val_loss: 3.3737 - val_sparse_categorical_accuracy: 0.1111\n",
            "Epoch 3/25\n",
            "990/990 [==============================] - 21s 20ms/step - loss: 3.2518 - sparse_categorical_accuracy: 0.1393 - val_loss: 3.2547 - val_sparse_categorical_accuracy: 0.1200\n",
            "Epoch 4/25\n",
            "990/990 [==============================] - 19s 18ms/step - loss: 3.1716 - sparse_categorical_accuracy: 0.1555 - val_loss: 3.1991 - val_sparse_categorical_accuracy: 0.1511\n",
            "Epoch 5/25\n",
            "990/990 [==============================] - 17s 16ms/step - loss: 3.1105 - sparse_categorical_accuracy: 0.1672 - val_loss: 3.1425 - val_sparse_categorical_accuracy: 0.1467\n",
            "Epoch 6/25\n",
            "990/990 [==============================] - 18s 16ms/step - loss: 3.0693 - sparse_categorical_accuracy: 0.1756 - val_loss: 3.1386 - val_sparse_categorical_accuracy: 0.1756\n",
            "Epoch 7/25\n",
            "990/990 [==============================] - 18s 16ms/step - loss: 3.0346 - sparse_categorical_accuracy: 0.1823 - val_loss: 3.0673 - val_sparse_categorical_accuracy: 0.1756\n",
            "Epoch 8/25\n",
            "990/990 [==============================] - 17s 15ms/step - loss: 3.0032 - sparse_categorical_accuracy: 0.1898 - val_loss: 3.0648 - val_sparse_categorical_accuracy: 0.1756\n",
            "Epoch 9/25\n",
            "990/990 [==============================] - 17s 16ms/step - loss: 2.9784 - sparse_categorical_accuracy: 0.1943 - val_loss: 3.0237 - val_sparse_categorical_accuracy: 0.2000\n",
            "Epoch 10/25\n",
            "990/990 [==============================] - 17s 15ms/step - loss: 2.9528 - sparse_categorical_accuracy: 0.1996 - val_loss: 3.0101 - val_sparse_categorical_accuracy: 0.1889\n",
            "Epoch 11/25\n",
            "990/990 [==============================] - 16s 15ms/step - loss: 2.9299 - sparse_categorical_accuracy: 0.2045 - val_loss: 2.9692 - val_sparse_categorical_accuracy: 0.2022\n",
            "Epoch 12/25\n",
            "990/990 [==============================] - 18s 17ms/step - loss: 2.9101 - sparse_categorical_accuracy: 0.2099 - val_loss: 2.9373 - val_sparse_categorical_accuracy: 0.1911\n",
            "Epoch 13/25\n",
            "990/990 [==============================] - 17s 16ms/step - loss: 2.8894 - sparse_categorical_accuracy: 0.2144 - val_loss: 2.9246 - val_sparse_categorical_accuracy: 0.2133\n",
            "Epoch 14/25\n",
            "990/990 [==============================] - 18s 16ms/step - loss: 2.8686 - sparse_categorical_accuracy: 0.2190 - val_loss: 2.9113 - val_sparse_categorical_accuracy: 0.1933\n",
            "Epoch 15/25\n",
            "990/990 [==============================] - 18s 17ms/step - loss: 2.8517 - sparse_categorical_accuracy: 0.2225 - val_loss: 2.8872 - val_sparse_categorical_accuracy: 0.2222\n",
            "Epoch 16/25\n",
            "990/990 [==============================] - 18s 17ms/step - loss: 2.8337 - sparse_categorical_accuracy: 0.2269 - val_loss: 2.8938 - val_sparse_categorical_accuracy: 0.2089\n",
            "Epoch 17/25\n",
            "990/990 [==============================] - 17s 15ms/step - loss: 2.8155 - sparse_categorical_accuracy: 0.2314 - val_loss: 2.8806 - val_sparse_categorical_accuracy: 0.2222\n",
            "Epoch 18/25\n",
            "990/990 [==============================] - 17s 16ms/step - loss: 2.7996 - sparse_categorical_accuracy: 0.2352 - val_loss: 2.8597 - val_sparse_categorical_accuracy: 0.2200\n",
            "Epoch 19/25\n",
            "990/990 [==============================] - 17s 16ms/step - loss: 2.7825 - sparse_categorical_accuracy: 0.2389 - val_loss: 2.8542 - val_sparse_categorical_accuracy: 0.2289\n",
            "Epoch 20/25\n",
            "990/990 [==============================] - 17s 16ms/step - loss: 2.7682 - sparse_categorical_accuracy: 0.2419 - val_loss: 2.8187 - val_sparse_categorical_accuracy: 0.2311\n",
            "Epoch 21/25\n",
            "990/990 [==============================] - 19s 17ms/step - loss: 2.7552 - sparse_categorical_accuracy: 0.2456 - val_loss: 2.8555 - val_sparse_categorical_accuracy: 0.2422\n",
            "Epoch 22/25\n",
            "990/990 [==============================] - 16s 15ms/step - loss: 2.7440 - sparse_categorical_accuracy: 0.2471 - val_loss: 2.8438 - val_sparse_categorical_accuracy: 0.2311\n",
            "Epoch 23/25\n",
            "990/990 [==============================] - 17s 15ms/step - loss: 2.7289 - sparse_categorical_accuracy: 0.2508 - val_loss: 2.8176 - val_sparse_categorical_accuracy: 0.2311\n",
            "Epoch 24/25\n",
            "990/990 [==============================] - 18s 16ms/step - loss: 2.7173 - sparse_categorical_accuracy: 0.2528 - val_loss: 2.8381 - val_sparse_categorical_accuracy: 0.2311\n",
            "Epoch 25/25\n",
            "990/990 [==============================] - 19s 17ms/step - loss: 2.7060 - sparse_categorical_accuracy: 0.2571 - val_loss: 2.8038 - val_sparse_categorical_accuracy: 0.2444\n",
            "Total time used: 487.66474890708923 sec\n"
          ]
        }
      ]
    },
    {
      "cell_type": "markdown",
      "source": [
        "### Show performance"
      ],
      "metadata": {
        "id": "thXveCsOFB2K"
      }
    },
    {
      "cell_type": "code",
      "source": [
        "history_dict_q = history_q.history\n",
        "print(history_dict_q.keys())"
      ],
      "metadata": {
        "id": "P9tOaPw_FB2L",
        "colab": {
          "base_uri": "https://localhost:8080/"
        },
        "outputId": "feb1653f-fd0e-4619-9395-c36d6f2c8095"
      },
      "execution_count": 20,
      "outputs": [
        {
          "output_type": "stream",
          "name": "stdout",
          "text": [
            "dict_keys(['loss', 'sparse_categorical_accuracy', 'val_loss', 'val_sparse_categorical_accuracy'])\n"
          ]
        }
      ]
    },
    {
      "cell_type": "markdown",
      "source": [
        "Loss"
      ],
      "metadata": {
        "id": "XYRICua5FB2L"
      }
    },
    {
      "cell_type": "code",
      "source": [
        "train_loss_q = history_q.history['loss']\n",
        "val_loss_q = history_q.history['val_loss']\n",
        "\n",
        "x = np.arange(1, n_epoch + 1)\n",
        "plt.xlabel(\"epoches\")\n",
        "plt.ylabel(\"Loss\")\n",
        "plt.plot(x, train_loss_q)\n",
        "plt.plot(x, val_loss_q)\n",
        "plt.grid(True)\n",
        "plt.legend([\"Training data\", \"Validaton data\"], loc = \"upper left\")\n",
        "plt.savefig(\"/content/drive/MyDrive/DL/HW3/LeNet5_tf/quantization/LeNet5_loss_tf_q.png\")\n",
        "plt.show()"
      ],
      "metadata": {
        "id": "a0CJAgAkFB2L",
        "colab": {
          "base_uri": "https://localhost:8080/",
          "height": 449
        },
        "outputId": "2c7524bb-6510-4045-a0b0-ac514c4c6a86"
      },
      "execution_count": 21,
      "outputs": [
        {
          "output_type": "display_data",
          "data": {
            "text/plain": [
              "<Figure size 640x480 with 1 Axes>"
            ],
            "image/png": "[encoded data removed]"
          },
          "metadata": {}
        }
      ]
    },
    {
      "cell_type": "markdown",
      "source": [
        "Accuracy"
      ],
      "metadata": {
        "id": "l4vz2hlLFB2L"
      }
    },
    {
      "cell_type": "code",
      "source": [
        "train_acc_q = history_q.history['sparse_categorical_accuracy']\n",
        "val_acc_q = history_q.history['val_sparse_categorical_accuracy']\n",
        "\n",
        "x = np.arange(1, n_epoch + 1)\n",
        "plt.xlabel(\"epoches\")\n",
        "plt.ylabel(\"Accuracy\")\n",
        "plt.plot(x, train_acc_q)\n",
        "plt.plot(x, val_acc_q)\n",
        "plt.grid(True)\n",
        "plt.legend([\"Training data\", \"Validaton data\"], loc = \"upper left\")\n",
        "plt.savefig(\"/content/drive/MyDrive/DL/HW3/LeNet5_tf/quantization/LeNet5_acc_tf_q.png\")\n",
        "plt.show()"
      ],
      "metadata": {
        "id": "evRETGIyFB2L",
        "colab": {
          "base_uri": "https://localhost:8080/",
          "height": 449
        },
        "outputId": "386c8bf5-ddea-448c-f63f-d90b174b8793"
      },
      "execution_count": 22,
      "outputs": [
        {
          "output_type": "display_data",
          "data": {
            "text/plain": [
              "<Figure size 640x480 with 1 Axes>"
            ],
            "image/png": "[encoded data removed]"
          },
          "metadata": {}
        }
      ]
    },
    {
      "cell_type": "markdown",
      "source": [
        "## Test"
      ],
      "metadata": {
        "id": "fBfekpR5FHBE"
      }
    },
    {
      "cell_type": "markdown",
      "source": [
        "### Evaluate on testing set"
      ],
      "metadata": {
        "id": "RgRsn6tQFHBF"
      }
    },
    {
      "cell_type": "code",
      "source": [
        "test_loss_q, test_accuracy_q = lenet5_q.evaluate(test_dataset)\n",
        "\n",
        "print('Test Loss:', round(test_loss_q, 4))\n",
        "print('Test Accuracy:', round(test_accuracy_q, 4))"
      ],
      "metadata": {
        "id": "6uP1ErFkFHBF",
        "colab": {
          "base_uri": "https://localhost:8080/"
        },
        "outputId": "3d86a188-144b-4856-f35c-f621e82f8f9f"
      },
      "execution_count": 23,
      "outputs": [
        {
          "output_type": "stream",
          "name": "stdout",
          "text": [
            "1/1 [==============================] - 0s 73ms/step - loss: 2.8396 - sparse_categorical_accuracy: 0.2267\n",
            "Test Loss: 2.8396\n",
            "Test Accuracy: 0.2267\n"
          ]
        }
      ]
    },
    {
      "cell_type": "code",
      "source": [
        "t1=time.time()\n",
        "prediction_q = lenet5_q.predict(test_dataset)\n",
        "print(\"Total time used:\", time.time() - t1, \"sec\")\n",
        "lenet5_test_pred_q = tf.argmax(prediction_q, axis=1).numpy()"
      ],
      "metadata": {
        "id": "Bc6Lmgw9FHBF",
        "colab": {
          "base_uri": "https://localhost:8080/"
        },
        "outputId": "a57a716e-34ce-473a-f619-2b105f5612b6"
      },
      "execution_count": 24,
      "outputs": [
        {
          "output_type": "stream",
          "name": "stdout",
          "text": [
            "1/1 [==============================] - 0s 470ms/step\n",
            "Total time used: 0.4843873977661133 sec\n"
          ]
        }
      ]
    },
    {
      "cell_type": "code",
      "source": [
        "def answer(test_y, test_y_pred, data_name, output_name):\n",
        "  df = np.column_stack((test_y, test_y_pred))\n",
        "  test_result = pd.DataFrame(df, index=data_name, columns=['Answer','Prediction'])\n",
        "  test_result.to_csv('/content/drive/MyDrive/DL/HW3/LeNet5_tf/quantization/' + output_name + '_test_result_q.csv')\n",
        "  return test_result"
      ],
      "metadata": {
        "id": "BoGDdNdLFHBF"
      },
      "execution_count": 29,
      "outputs": []
    },
    {
      "cell_type": "code",
      "source": [
        "output_name = 'LeNet5_tf'\n",
        "LeNet5_answer_q = answer(test_y, lenet5_test_pred_q, test_dir, output_name)\n",
        "LeNet5_answer_q"
      ],
      "metadata": {
        "id": "d5xC7ZxmFHBF",
        "colab": {
          "base_uri": "https://localhost:8080/",
          "height": 423
        },
        "outputId": "ef630da1-0d43-479b-a3fc-a954893722a7"
      },
      "execution_count": 28,
      "outputs": [
        {
          "output_type": "execute_result",
          "data": {
            "text/plain": [
              "                                      Answer  Prediction\n",
              "images/n02111277/n02111277_9420.JPEG       0          38\n",
              "images/n02111277/n02111277_9422.JPEG       0          33\n",
              "images/n02111277/n02111277_9484.JPEG       0           5\n",
              "images/n02111277/n02111277_951.JPEG        0          41\n",
              "images/n02111277/n02111277_9518.JPEG       0          49\n",
              "...                                      ...         ...\n",
              "images/n02172182/n02172182_974.JPEG       49          49\n",
              "images/n02172182/n02172182_9765.JPEG      49          44\n",
              "images/n02172182/n02172182_9789.JPEG      49          46\n",
              "images/n02172182/n02172182_98.JPEG        49          46\n",
              "images/n02172182/n02172182_981.JPEG       49          41\n",
              "\n",
              "[450 rows x 2 columns]"
            ],
            "text/html": [
              "\n",
              "  <div id=\"df-84bcb138-c9f9-4f66-a428-5aff9aa57413\">\n",
              "    <div class=\"colab-df-container\">\n",
              "      <div>\n",
              "<style scoped>\n",
              "    .dataframe tbody tr th:only-of-type {\n",
              "        vertical-align: middle;\n",
              "    }\n",
              "\n",
              "    .dataframe tbody tr th {\n",
              "        vertical-align: top;\n",
              "    }\n",
              "\n",
              "    .dataframe thead th {\n",
              "        text-align: right;\n",
              "    }\n",
              "</style>\n",
              "<table border=\"1\" class=\"dataframe\">\n",
              "  <thead>\n",
              "    <tr style=\"text-align: right;\">\n",
              "      <th></th>\n",
              "      <th>Answer</th>\n",
              "      <th>Prediction</th>\n",
              "    </tr>\n",
              "  </thead>\n",
              "  <tbody>\n",
              "    <tr>\n",
              "      <th>images/n02111277/n02111277_9420.JPEG</th>\n",
              "      <td>0</td>\n",
              "      <td>38</td>\n",
              "    </tr>\n",
              "    <tr>\n",
              "      <th>images/n02111277/n02111277_9422.JPEG</th>\n",
              "      <td>0</td>\n",
              "      <td>33</td>\n",
              "    </tr>\n",
              "    <tr>\n",
              "      <th>images/n02111277/n02111277_9484.JPEG</th>\n",
              "      <td>0</td>\n",
              "      <td>5</td>\n",
              "    </tr>\n",
              "    <tr>\n",
              "      <th>images/n02111277/n02111277_951.JPEG</th>\n",
              "      <td>0</td>\n",
              "      <td>41</td>\n",
              "    </tr>\n",
              "    <tr>\n",
              "      <th>images/n02111277/n02111277_9518.JPEG</th>\n",
              "      <td>0</td>\n",
              "      <td>49</td>\n",
              "    </tr>\n",
              "    <tr>\n",
              "      <th>...</th>\n",
              "      <td>...</td>\n",
              "      <td>...</td>\n",
              "    </tr>\n",
              "    <tr>\n",
              "      <th>images/n02172182/n02172182_974.JPEG</th>\n",
              "      <td>49</td>\n",
              "      <td>49</td>\n",
              "    </tr>\n",
              "    <tr>\n",
              "      <th>images/n02172182/n02172182_9765.JPEG</th>\n",
              "      <td>49</td>\n",
              "      <td>44</td>\n",
              "    </tr>\n",
              "    <tr>\n",
              "      <th>images/n02172182/n02172182_9789.JPEG</th>\n",
              "      <td>49</td>\n",
              "      <td>46</td>\n",
              "    </tr>\n",
              "    <tr>\n",
              "      <th>images/n02172182/n02172182_98.JPEG</th>\n",
              "      <td>49</td>\n",
              "      <td>46</td>\n",
              "    </tr>\n",
              "    <tr>\n",
              "      <th>images/n02172182/n02172182_981.JPEG</th>\n",
              "      <td>49</td>\n",
              "      <td>41</td>\n",
              "    </tr>\n",
              "  </tbody>\n",
              "</table>\n",
              "<p>450 rows × 2 columns</p>\n",
              "</div>\n",
              "      <button class=\"colab-df-convert\" onclick=\"convertToInteractive('df-84bcb138-c9f9-4f66-a428-5aff9aa57413')\"\n",
              "              title=\"Convert this dataframe to an interactive table.\"\n",
              "              style=\"display:none;\">\n",
              "        \n",
              "  <svg xmlns=\"http://www.w3.org/2000/svg\" height=\"24px\"viewBox=\"0 0 24 24\"\n",
              "       width=\"24px\">\n",
              "    <path d=\"M0 0h24v24H0V0z\" fill=\"none\"/>\n",
              "    <path d=\"M18.56 5.44l.94 2.06.94-2.06 2.06-.94-2.06-.94-.94-2.06-.94 2.06-2.06.94zm-11 1L8.5 8.5l.94-2.06 2.06-.94-2.06-.94L8.5 2.5l-.94 2.06-2.06.94zm10 10l.94 2.06.94-2.06 2.06-.94-2.06-.94-.94-2.06-.94 2.06-2.06.94z\"/><path d=\"M17.41 7.96l-1.37-1.37c-.4-.4-.92-.59-1.43-.59-.52 0-1.04.2-1.43.59L10.3 9.45l-7.72 7.72c-.78.78-.78 2.05 0 2.83L4 21.41c.39.39.9.59 1.41.59.51 0 1.02-.2 1.41-.59l7.78-7.78 2.81-2.81c.8-.78.8-2.07 0-2.86zM5.41 20L4 18.59l7.72-7.72 1.47 1.35L5.41 20z\"/>\n",
              "  </svg>\n",
              "      </button>\n",
              "      \n",
              "  <style>\n",
              "    .colab-df-container {\n",
              "      display:flex;\n",
              "      flex-wrap:wrap;\n",
              "      gap: 12px;\n",
              "    }\n",
              "\n",
              "    .colab-df-convert {\n",
              "      background-color: #E8F0FE;\n",
              "      border: none;\n",
              "      border-radius: 50%;\n",
              "      cursor: pointer;\n",
              "      display: none;\n",
              "      fill: #1967D2;\n",
              "      height: 32px;\n",
              "      padding: 0 0 0 0;\n",
              "      width: 32px;\n",
              "    }\n",
              "\n",
              "    .colab-df-convert:hover {\n",
              "      background-color: #E2EBFA;\n",
              "      box-shadow: 0px 1px 2px rgba(60, 64, 67, 0.3), 0px 1px 3px 1px rgba(60, 64, 67, 0.15);\n",
              "      fill: #174EA6;\n",
              "    }\n",
              "\n",
              "    [theme=dark] .colab-df-convert {\n",
              "      background-color: #3B4455;\n",
              "      fill: #D2E3FC;\n",
              "    }\n",
              "\n",
              "    [theme=dark] .colab-df-convert:hover {\n",
              "      background-color: #434B5C;\n",
              "      box-shadow: 0px 1px 3px 1px rgba(0, 0, 0, 0.15);\n",
              "      filter: drop-shadow(0px 1px 2px rgba(0, 0, 0, 0.3));\n",
              "      fill: #FFFFFF;\n",
              "    }\n",
              "  </style>\n",
              "\n",
              "      <script>\n",
              "        const buttonEl =\n",
              "          document.querySelector('#df-84bcb138-c9f9-4f66-a428-5aff9aa57413 button.colab-df-convert');\n",
              "        buttonEl.style.display =\n",
              "          google.colab.kernel.accessAllowed ? 'block' : 'none';\n",
              "\n",
              "        async function convertToInteractive(key) {\n",
              "          const element = document.querySelector('#df-84bcb138-c9f9-4f66-a428-5aff9aa57413');\n",
              "          const dataTable =\n",
              "            await google.colab.kernel.invokeFunction('convertToInteractive',\n",
              "                                                     [key], {});\n",
              "          if (!dataTable) return;\n",
              "\n",
              "          const docLinkHtml = 'Like what you see? Visit the ' +\n",
              "            '<a target=\"_blank\" href=https://colab.research.google.com/notebooks/data_table.ipynb>data table notebook</a>'\n",
              "            + ' to learn more about interactive tables.';\n",
              "          element.innerHTML = '';\n",
              "          dataTable['output_type'] = 'display_data';\n",
              "          await google.colab.output.renderOutput(dataTable, element);\n",
              "          const docLink = document.createElement('div');\n",
              "          docLink.innerHTML = docLinkHtml;\n",
              "          element.appendChild(docLink);\n",
              "        }\n",
              "      </script>\n",
              "    </div>\n",
              "  </div>\n",
              "  "
            ]
          },
          "metadata": {},
          "execution_count": 28
        }
      ]
    }
  ]
}