{
  "nbformat": 4,
  "nbformat_minor": 0,
  "metadata": {
    "colab": {
      "provenance": [],
      "toc_visible": true,
      "gpuType": "T4",
      "authorship_tag": "ABX9TyO1CxrCYBQUgX6w4FNFCOVO",
      "include_colab_link": true
    },
    "kernelspec": {
      "name": "python3",
      "display_name": "Python 3"
    },
    "language_info": {
      "name": "python"
    },
    "gpuClass": "standard"
  },
  "cells": [
    {
      "cell_type": "markdown",
      "metadata": {
        "id": "view-in-github",
        "colab_type": "text"
      },
      "source": [
        "<a href=\"https://colab.research.google.com/github/podo47/DL_HW3_Pytorch_TF/blob/main/DL_HW3_LeNet5_pytorch.ipynb\" target=\"_parent\"><img src=\"https://colab.research.google.com/assets/colab-badge.svg\" alt=\"Open In Colab\"/></a>"
      ]
    },
    {
      "cell_type": "markdown",
      "source": [
        "# Pytorch"
      ],
      "metadata": {
        "id": "hPBqIIK3UTrR"
      }
    },
    {
      "cell_type": "markdown",
      "source": [
        "## Mount to drive"
      ],
      "metadata": {
        "id": "C3r--zdJykZb"
      }
    },
    {
      "cell_type": "code",
      "execution_count": null,
      "metadata": {
        "id": "79RQ2gTfhoh1",
        "colab": {
          "base_uri": "https://localhost:8080/"
        },
        "outputId": "86d68bd3-5e95-4989-d491-40b69347e919"
      },
      "outputs": [
        {
          "output_type": "stream",
          "name": "stdout",
          "text": [
            "Mounted at /content/drive\n"
          ]
        }
      ],
      "source": [
        "from google.colab import drive\n",
        "drive.mount('/content/drive') "
      ]
    },
    {
      "cell_type": "markdown",
      "source": [
        "## Import library"
      ],
      "metadata": {
        "id": "LCGKQu6YypVJ"
      }
    },
    {
      "cell_type": "code",
      "source": [
        "import os\n",
        "import math\n",
        "import random\n",
        "import numpy as np \n",
        "import pandas as pd \n",
        "import matplotlib.pyplot as plt \n",
        "from PIL import Image\n",
        "import cv2\n",
        "import time\n",
        "import pickle\n",
        "from tqdm import tqdm\n",
        "\n",
        "import torch\n",
        "import torchvision.transforms as T\n",
        "from torch.utils.data import Dataset\n",
        "from torch.utils.data import ConcatDataset\n",
        "from torch.utils.data import TensorDataset, DataLoader\n",
        "import torch.nn as nn\n",
        "import torch.optim as optim\n",
        "from torchsummary import summary\n",
        "!pip install thop\n",
        "from thop import profile\n"
      ],
      "metadata": {
        "colab": {
          "base_uri": "https://localhost:8080/"
        },
        "id": "teX2Olef0-Zc",
        "outputId": "d33f3bfa-2ecb-479d-8dab-6724f4e49da4"
      },
      "execution_count": null,
      "outputs": [
        {
          "output_type": "stream",
          "name": "stdout",
          "text": [
            "Looking in indexes: https://pypi.org/simple, https://us-python.pkg.dev/colab-wheels/public/simple/\n",
            "Collecting thop\n",
            "  Downloading thop-0.1.1.post2209072238-py3-none-any.whl (15 kB)\n",
            "Requirement already satisfied: torch in /usr/local/lib/python3.10/dist-packages (from thop) (2.0.1+cu118)\n",
            "Requirement already satisfied: filelock in /usr/local/lib/python3.10/dist-packages (from torch->thop) (3.12.0)\n",
            "Requirement already satisfied: typing-extensions in /usr/local/lib/python3.10/dist-packages (from torch->thop) (4.5.0)\n",
            "Requirement already satisfied: sympy in /usr/local/lib/python3.10/dist-packages (from torch->thop) (1.11.1)\n",
            "Requirement already satisfied: networkx in /usr/local/lib/python3.10/dist-packages (from torch->thop) (3.1)\n",
            "Requirement already satisfied: jinja2 in /usr/local/lib/python3.10/dist-packages (from torch->thop) (3.1.2)\n",
            "Requirement already satisfied: triton==2.0.0 in /usr/local/lib/python3.10/dist-packages (from torch->thop) (2.0.0)\n",
            "Requirement already satisfied: cmake in /usr/local/lib/python3.10/dist-packages (from triton==2.0.0->torch->thop) (3.25.2)\n",
            "Requirement already satisfied: lit in /usr/local/lib/python3.10/dist-packages (from triton==2.0.0->torch->thop) (16.0.5)\n",
            "Requirement already satisfied: MarkupSafe>=2.0 in /usr/local/lib/python3.10/dist-packages (from jinja2->torch->thop) (2.1.2)\n",
            "Requirement already satisfied: mpmath>=0.19 in /usr/local/lib/python3.10/dist-packages (from sympy->torch->thop) (1.3.0)\n",
            "Installing collected packages: thop\n",
            "Successfully installed thop-0.1.1.post2209072238\n"
          ]
        }
      ]
    },
    {
      "cell_type": "code",
      "source": [
        "import warnings\n",
        "warnings.filterwarnings('ignore')"
      ],
      "metadata": {
        "id": "zA_Hj5q32rqp"
      },
      "execution_count": null,
      "outputs": []
    },
    {
      "cell_type": "code",
      "source": [
        "# Show matplotlib graphs in your notebook\n",
        "%matplotlib inline"
      ],
      "metadata": {
        "id": "ZhyPFYPpysO-"
      },
      "execution_count": null,
      "outputs": []
    },
    {
      "cell_type": "markdown",
      "source": [
        "## Load data"
      ],
      "metadata": {
        "id": "6CWT08JY3Vf2"
      }
    },
    {
      "cell_type": "code",
      "source": [
        "train = pd.read_csv('/content/drive/MyDrive/images/train.txt', sep=\" \",header=None)\n",
        "train_y = np.array(train[1])\n",
        "\n",
        "valid = pd.read_csv('/content/drive/MyDrive/images/val.txt', sep=\" \",header=None)\n",
        "valid_y = np.array(valid[1])\n",
        "\n",
        "test = pd.read_csv('/content/drive/MyDrive/images/test.txt', sep=\" \",header=None)\n",
        "test_dir = np.array(test[0])\n",
        "test_y = np.array(test[1])"
      ],
      "metadata": {
        "id": "JlWEs0268gAV"
      },
      "execution_count": null,
      "outputs": []
    },
    {
      "cell_type": "code",
      "source": [
        "with np.load(\"/content/drive/MyDrive/images/rgb_dataset.npz\") as data:\n",
        "    X_train = data[\"traindata\"]\n",
        "    X_valid = data[\"validdata\"]\n",
        "    X_test = data[\"testdata\"]"
      ],
      "metadata": {
        "id": "hBrZNm1e3UjV"
      },
      "execution_count": null,
      "outputs": []
    },
    {
      "cell_type": "code",
      "source": [
        "print('X_train shape : ', X_train.shape)\n",
        "print('X_valid shape : ',X_valid.shape)\n",
        "print('X_test shape : ',X_test.shape)"
      ],
      "metadata": {
        "colab": {
          "base_uri": "https://localhost:8080/"
        },
        "id": "C7TxFlnr4e2N",
        "outputId": "a18927cb-5943-4895-8dbf-22e60020348e"
      },
      "execution_count": null,
      "outputs": [
        {
          "output_type": "stream",
          "name": "stdout",
          "text": [
            "X_train shape :  (63325, 28, 28, 3)\n",
            "X_valid shape :  (450, 28, 28, 3)\n",
            "X_test shape :  (450, 28, 28, 3)\n"
          ]
        }
      ]
    },
    {
      "cell_type": "markdown",
      "source": [
        "## plot image"
      ],
      "metadata": {
        "id": "OB4-3wf48CL-"
      }
    },
    {
      "cell_type": "code",
      "source": [
        "fig,axs = plt.subplots(3,3,figsize = (6,6))\n",
        "\n",
        "for idx, ax in enumerate(axs.flat):\n",
        "    id = random.randint(0,X_train.shape[0])\n",
        "    ax.imshow(cv2.cvtColor(X_train[id], cv2.COLOR_BGR2RGB))\n",
        "    ax.axis('off')\n",
        "    ax.set_title('Label : {}'.format(train_y[id]))"
      ],
      "metadata": {
        "colab": {
          "base_uri": "https://localhost:8080/",
          "height": 521
        },
        "id": "b4GIPzD15oJA",
        "outputId": "2aae2ad9-0167-4b59-92e6-1b833046dc74"
      },
      "execution_count": null,
      "outputs": [
        {
          "output_type": "display_data",
          "data": {
            "text/plain": [
              "<Figure size 600x600 with 9 Axes>"
            ],
            "image/png": "[encoded data removed]"
          },
          "metadata": {}
        }
      ]
    },
    {
      "cell_type": "markdown",
      "source": [
        "## Define dataLoader"
      ],
      "metadata": {
        "id": "6jcgOd0sFCp6"
      }
    },
    {
      "cell_type": "markdown",
      "source": [
        "### Define dataset"
      ],
      "metadata": {
        "id": "afITc265Kg8F"
      }
    },
    {
      "cell_type": "code",
      "source": [
        "# Reshape\n",
        "train_data = np.transpose(X_train,(0,3,1,2))\n",
        "valid_data = np.transpose(X_valid,(0,3,1,2))\n",
        "test_data = np.transpose(X_test,(0,3,1,2))\n",
        "\n",
        "# Convert data to torch and normalize (because the input of transform.ToPILImage need to be in range [0, 1])\n",
        "train_data, train_label = torch.from_numpy(train_data).to(torch.float)/255.0, torch.from_numpy(train_y.astype(int))\n",
        "valid_data, valid_label = torch.from_numpy(valid_data).to(torch.float)/255.0, torch.from_numpy(valid_y.astype(int))\n",
        "test_data, test_label = torch.from_numpy(test_data).to(torch.float)/255.0, torch.from_numpy(test_y.astype(int))\n"
      ],
      "metadata": {
        "id": "wvMbB5CQ99RM"
      },
      "execution_count": null,
      "outputs": []
    },
    {
      "cell_type": "code",
      "source": [
        "class MyDataset(Dataset):\n",
        "    def __init__(self, images, labels, transform=None):\n",
        "        self.images = images\n",
        "        self.labels = labels\n",
        "        self.transform = transform\n",
        "\n",
        "    def __len__(self):\n",
        "        return len(self.images)\n",
        "\n",
        "    def __getitem__(self, idx):\n",
        "        image = self.images[idx]\n",
        "        label = self.labels[idx]\n",
        "\n",
        "        if self.transform:\n",
        "            image = self.transform(image)\n",
        "\n",
        "        return image, label"
      ],
      "metadata": {
        "id": "kAWdWJGKcbaO"
      },
      "execution_count": null,
      "outputs": []
    },
    {
      "cell_type": "markdown",
      "source": [
        "### Implements transforms"
      ],
      "metadata": {
        "id": "ZvpQKt6COdg-"
      }
    },
    {
      "cell_type": "code",
      "source": [
        "# Normalization\n",
        "transform1 = T.Compose(\n",
        "    [T.Normalize((0.5, 0.5, 0.5), (0.5, 0.5, 0.5))])\n",
        "\n",
        "# Shifting: randomly shift the images up/down and left/right by within 10%.\n",
        "transform2 = T.Compose(\n",
        "    [T.RandomAffine(degrees=0, translate=(0.1,0.1)),\n",
        "    T.Normalize((0.5, 0.5, 0.5), (0.5, 0.5, 0.5))])\n",
        "\n",
        "# Rotating: randomly rotate the images by some angles.\n",
        "transform3 = T.Compose(\n",
        "    [T.RandomRotation(degrees=45),\n",
        "    T.Normalize((0.5, 0.5, 0.5), (0.5, 0.5, 0.5))])\n",
        "\n",
        "# Flipping: horizontally flip the images.\n",
        "transform4 = T.Compose(\n",
        "    [T.RandomHorizontalFlip(p=1),\n",
        "    T.Normalize((0.5, 0.5, 0.5), (0.5, 0.5, 0.5))])\n",
        "\n",
        "transform_list = [transform1, transform2, transform3, transform4]\n",
        "augmented_dataset = []\n",
        "for t in transform_list:\n",
        "    augmented_dataset.append(MyDataset(train_data, train_label, transform=t ))\n",
        "\n",
        "train_dataset = ConcatDataset(augmented_dataset)\n",
        "valid_dataset = MyDataset(valid_data, valid_label, transform=transform1 )\n",
        "test_dataset = MyDataset(test_data, test_label, transform=transform1 ) \n"
      ],
      "metadata": {
        "id": "a2DoSKVNLtAX"
      },
      "execution_count": null,
      "outputs": []
    },
    {
      "cell_type": "markdown",
      "source": [
        "### Dataloader"
      ],
      "metadata": {
        "id": "44RVg3HeR_8u"
      }
    },
    {
      "cell_type": "code",
      "source": [
        "train_loader = DataLoader(dataset=train_dataset, shuffle=True, batch_size=256)\n",
        "valid_loader = DataLoader(dataset=valid_dataset, shuffle=False, batch_size=450)\n",
        "test_loader = DataLoader(dataset=test_dataset, shuffle=False, batch_size=450)"
      ],
      "metadata": {
        "id": "iV6A8u58LE2n"
      },
      "execution_count": null,
      "outputs": []
    },
    {
      "cell_type": "markdown",
      "source": [
        "## LeNet5"
      ],
      "metadata": {
        "id": "AUYj_cnFhsOk"
      }
    },
    {
      "cell_type": "markdown",
      "source": [
        "○ Kernel size (conv): 5x5\n",
        "\n",
        "○ Stride (cov): 1x1\n",
        "\n",
        "○ FC layer : 120 -> 84 -> 50"
      ],
      "metadata": {
        "id": "FrFrjvh4x9SL"
      }
    },
    {
      "cell_type": "code",
      "source": [
        "class LeNet5(nn.Module):\n",
        "  def __init__(self):\n",
        "    super().__init__()\n",
        "    # TODO: define your CNN\n",
        "    self.cnn_layers = nn.Sequential(\n",
        "            nn.Conv2d(3, 6, 5, stride=1),\n",
        "            nn.Sigmoid(),\n",
        "            nn.MaxPool2d(kernel_size=2),\n",
        "            nn.Conv2d(6, 16, 5, stride=1),\n",
        "            nn.Sigmoid(),\n",
        "            nn.MaxPool2d(kernel_size=2)\n",
        "            )\n",
        "    self.fc_layers = nn.Sequential(\n",
        "            nn.Linear(16*4*4, 120),\n",
        "            nn.Sigmoid(),\n",
        "            nn.Linear(120, 84),\n",
        "            nn.Sigmoid(),\n",
        "            nn.Linear(84, 50))\n",
        "\n",
        "  def forward(self, x):\n",
        "    # TODO: define your forward function\n",
        "    x = self.cnn_layers(x)\n",
        "    x = x.flatten(1)\n",
        "    x = self.fc_layers(x)\n",
        "    return x\n"
      ],
      "metadata": {
        "id": "_fFDsVRFhr6i"
      },
      "execution_count": null,
      "outputs": []
    },
    {
      "cell_type": "markdown",
      "source": [
        "## Train and test function"
      ],
      "metadata": {
        "id": "xmz3BkjnywCw"
      }
    },
    {
      "cell_type": "code",
      "source": [
        "def train(model, criterion, optimizer, traindata_loader, validdata_loader):\n",
        "\n",
        "  train_loss = 0.0\n",
        "  train_acc = 0.0\n",
        "  valid_loss = 0.0\n",
        "  valid_acc = 0.0\n",
        "\n",
        "  # Train\n",
        "  model.train()\n",
        "  bar = tqdm(traindata_loader)\n",
        "  bar.set_description(f\"Training...\")\n",
        "\n",
        "  for batch, (X, y) in enumerate(bar):\n",
        "    # Move data to device\n",
        "    X, y = X.to(device), y.to(device)\n",
        "    # Clear gradients\n",
        "    optimizer.zero_grad()\n",
        "    # Forward pass (make prediction)\n",
        "    pred = model(X)\n",
        "    # Compute loss\n",
        "    loss = criterion(pred, y)\n",
        "    # Backpropagation (compute gradient)\n",
        "    loss.backward()\n",
        "    # Updata model with optimizer\n",
        "    optimizer.step()\n",
        "    train_loss += loss.item() * len(X)\n",
        "    train_acc += (pred.argmax(dim=-1) == y).float().sum().item()\n",
        "    \n",
        "    if batch % 100 == 0:\n",
        "      bar.set_postfix({\"Batch average loss\": f\"{loss.item():.4f}\"})\n",
        "    \n",
        "  avg_train_loss = round(train_loss / len(traindata_loader.dataset), 4)\n",
        "  avg_train_acc = round(train_acc / len(traindata_loader.dataset), 4)\n",
        "\n",
        "  # Validation\n",
        "  model.eval()\n",
        "  valid_loss = 0.0\n",
        "  valid_acc = 0.0\n",
        "\n",
        "  with torch.no_grad():\n",
        "    for X, y in tqdm(validdata_loader):\n",
        "      X, y = X.to(device), y.to(device)\n",
        "      pred = model(X)\n",
        "      \n",
        "      loss = criterion(pred, y)\n",
        "      valid_loss += loss.item() * len(X)\n",
        "      valid_acc += (pred.argmax(dim=-1) == y).float().sum().item()\n",
        " \n",
        "  avg_valid_loss = round(valid_loss / len(validdata_loader.dataset), 4)\n",
        "  avg_valid_acc = round(valid_acc / len(validdata_loader.dataset), 4)\n",
        " \n",
        "  return avg_train_loss, avg_train_acc, avg_valid_loss, avg_valid_acc\n",
        "\n",
        "\n",
        "# If test data has labels, \"label = True\"\n",
        "def test(model, criterion, testdata_loader, label = False):\n",
        "  model.eval()\n",
        "  test_loss = 0.0\n",
        "  test_acc = 0.0\n",
        "  prediction = []\n",
        "\n",
        "  with torch.no_grad():\n",
        "    for X, y in tqdm(testdata_loader):\n",
        "      X, y = X.to(device), y.to(device)\n",
        "      pred = model(X)\n",
        "      \n",
        "      if label:\n",
        "        loss = criterion(pred, y)\n",
        "        test_loss += loss.item() * len(X)\n",
        "        test_acc += (pred.argmax(dim=-1) == y).float().sum().item()\n",
        "\n",
        "      prediction.extend(pred.argmax(dim=-1).cpu().numpy().tolist())  \n",
        "  if label:\n",
        "    avg_test_loss =  round(test_loss / len(testdata_loader.dataset), 4)\n",
        "    avg_test_acc = round(test_acc / len(testdata_loader.dataset), 4)\n",
        "    print(f\"Average test loss: {avg_test_loss:.4f} | Average test Acc: {avg_test_acc:.4f}\")\n",
        "\n",
        "    return prediction, avg_test_loss, avg_test_acc\n",
        "  else:\n",
        "    return prediction\n"
      ],
      "metadata": {
        "id": "wI6g8zcyy1vx"
      },
      "execution_count": null,
      "outputs": []
    },
    {
      "cell_type": "markdown",
      "source": [
        "## Train"
      ],
      "metadata": {
        "id": "TG2uSiiXhk03"
      }
    },
    {
      "cell_type": "code",
      "source": [
        "# use GPU to train if possible\n",
        "device = torch.device(\"cuda:0\" if torch.cuda.is_available() else \"cpu\")\n",
        "print(device)"
      ],
      "metadata": {
        "colab": {
          "base_uri": "https://localhost:8080/"
        },
        "id": "XU4i-Xgfhm8p",
        "outputId": "34c3046b-8602-416f-cfda-e12585fc7ef4"
      },
      "execution_count": null,
      "outputs": [
        {
          "output_type": "stream",
          "name": "stdout",
          "text": [
            "cuda:0\n"
          ]
        }
      ]
    },
    {
      "cell_type": "code",
      "source": [
        "lenet5 = LeNet5().to(device)  # operate on GPU"
      ],
      "metadata": {
        "id": "3IW79ox_ytlI"
      },
      "execution_count": null,
      "outputs": []
    },
    {
      "cell_type": "markdown",
      "source": [
        "### Define a loss function and optimizer"
      ],
      "metadata": {
        "id": "-L0wOkuy81-s"
      }
    },
    {
      "cell_type": "code",
      "source": [
        "criterion = nn.CrossEntropyLoss()\n",
        "optimizer = optim.Adam(lenet5.parameters(), lr=0.001, betas=(0.9, 0.999), eps=1e-08, weight_decay=0)"
      ],
      "metadata": {
        "id": "S6V3qm6k8y9g"
      },
      "execution_count": null,
      "outputs": []
    },
    {
      "cell_type": "markdown",
      "source": [
        "### Train the network"
      ],
      "metadata": {
        "id": "OUi1zvpe98q_"
      }
    },
    {
      "cell_type": "code",
      "source": [
        "n_epoch = 25\n",
        "\n",
        "loss_rate_list = []\n",
        "acc_rate_list = []\n",
        "\n",
        "start_time = time.time()\n",
        "\n",
        "for epoch in range(n_epoch):\n",
        "  lenet5_avg_train_loss, lenet5_avg_train_acc, lenet5_avg_valid_loss, lenet5_avg_valid_acc = train(lenet5, criterion, optimizer, train_loader, valid_loader)\n",
        "  print(f\"Epoch {epoch+1} | Average train loss: {lenet5_avg_train_loss} / Average train Acc: {lenet5_avg_train_acc} \")\n",
        "  print(f\"Average valid loss: {lenet5_avg_valid_loss} / Average valid Acc: {lenet5_avg_valid_acc} \\n\")\n",
        "  loss_rate_list.append([lenet5_avg_train_loss, lenet5_avg_valid_loss])\n",
        "  acc_rate_list.append([lenet5_avg_train_acc, lenet5_avg_valid_acc])\n",
        "  \n",
        "loss_rate_list = np.array(loss_rate_list).T\n",
        "acc_rate_list = np.array(acc_rate_list).T\n",
        "\n",
        "print(\"Total time used:\", time.time() - start_time, \"sec\")\n"
      ],
      "metadata": {
        "colab": {
          "base_uri": "https://localhost:8080/"
        },
        "id": "ocXHZwTZ98cA",
        "outputId": "e2f4e465-9688-4194-e503-db9ef90d124e"
      },
      "execution_count": null,
      "outputs": [
        {
          "output_type": "stream",
          "name": "stderr",
          "text": [
            "Training...: 100%|██████████| 990/990 [03:07<00:00,  5.28it/s, Batch average loss=3.5963]\n",
            "100%|██████████| 1/1 [00:00<00:00, 25.66it/s]\n"
          ]
        },
        {
          "output_type": "stream",
          "name": "stdout",
          "text": [
            "Epoch 1 | Average train loss: 3.7154 / Average train Acc: 0.0526 \n",
            "Average valid loss: 3.5518 / Average valid Acc: 0.0978 \n",
            "\n"
          ]
        },
        {
          "output_type": "stream",
          "name": "stderr",
          "text": [
            "Training...: 100%|██████████| 990/990 [03:11<00:00,  5.16it/s, Batch average loss=3.3750]\n",
            "100%|██████████| 1/1 [00:00<00:00, 24.66it/s]\n"
          ]
        },
        {
          "output_type": "stream",
          "name": "stdout",
          "text": [
            "Epoch 2 | Average train loss: 3.4692 / Average train Acc: 0.0929 \n",
            "Average valid loss: 3.3859 / Average valid Acc: 0.1022 \n",
            "\n"
          ]
        },
        {
          "output_type": "stream",
          "name": "stderr",
          "text": [
            "Training...: 100%|██████████| 990/990 [03:10<00:00,  5.19it/s, Batch average loss=3.3823]\n",
            "100%|██████████| 1/1 [00:00<00:00, 12.61it/s]\n"
          ]
        },
        {
          "output_type": "stream",
          "name": "stdout",
          "text": [
            "Epoch 3 | Average train loss: 3.3504 / Average train Acc: 0.1152 \n",
            "Average valid loss: 3.3126 / Average valid Acc: 0.1156 \n",
            "\n"
          ]
        },
        {
          "output_type": "stream",
          "name": "stderr",
          "text": [
            "Training...: 100%|██████████| 990/990 [03:20<00:00,  4.95it/s, Batch average loss=3.1644]\n",
            "100%|██████████| 1/1 [00:00<00:00, 21.99it/s]\n"
          ]
        },
        {
          "output_type": "stream",
          "name": "stdout",
          "text": [
            "Epoch 4 | Average train loss: 3.2864 / Average train Acc: 0.1299 \n",
            "Average valid loss: 3.2623 / Average valid Acc: 0.1156 \n",
            "\n"
          ]
        },
        {
          "output_type": "stream",
          "name": "stderr",
          "text": [
            "Training...: 100%|██████████| 990/990 [03:11<00:00,  5.16it/s, Batch average loss=3.2193]\n",
            "100%|██████████| 1/1 [00:00<00:00, 17.72it/s]\n"
          ]
        },
        {
          "output_type": "stream",
          "name": "stdout",
          "text": [
            "Epoch 5 | Average train loss: 3.2227 / Average train Acc: 0.1439 \n",
            "Average valid loss: 3.1698 / Average valid Acc: 0.1511 \n",
            "\n"
          ]
        },
        {
          "output_type": "stream",
          "name": "stderr",
          "text": [
            "Training...: 100%|██████████| 990/990 [03:12<00:00,  5.13it/s, Batch average loss=3.2093]\n",
            "100%|██████████| 1/1 [00:00<00:00, 25.03it/s]\n"
          ]
        },
        {
          "output_type": "stream",
          "name": "stdout",
          "text": [
            "Epoch 6 | Average train loss: 3.1611 / Average train Acc: 0.1555 \n",
            "Average valid loss: 3.1202 / Average valid Acc: 0.1422 \n",
            "\n"
          ]
        },
        {
          "output_type": "stream",
          "name": "stderr",
          "text": [
            "Training...: 100%|██████████| 990/990 [03:12<00:00,  5.15it/s, Batch average loss=2.9733]\n",
            "100%|██████████| 1/1 [00:00<00:00, 25.55it/s]\n"
          ]
        },
        {
          "output_type": "stream",
          "name": "stdout",
          "text": [
            "Epoch 7 | Average train loss: 3.1191 / Average train Acc: 0.1639 \n",
            "Average valid loss: 3.0734 / Average valid Acc: 0.1444 \n",
            "\n"
          ]
        },
        {
          "output_type": "stream",
          "name": "stderr",
          "text": [
            "Training...: 100%|██████████| 990/990 [03:09<00:00,  5.23it/s, Batch average loss=3.1176]\n",
            "100%|██████████| 1/1 [00:00<00:00, 25.60it/s]\n"
          ]
        },
        {
          "output_type": "stream",
          "name": "stdout",
          "text": [
            "Epoch 8 | Average train loss: 3.0886 / Average train Acc: 0.1704 \n",
            "Average valid loss: 3.0715 / Average valid Acc: 0.1667 \n",
            "\n"
          ]
        },
        {
          "output_type": "stream",
          "name": "stderr",
          "text": [
            "Training...: 100%|██████████| 990/990 [03:13<00:00,  5.12it/s, Batch average loss=3.1480]\n",
            "100%|██████████| 1/1 [00:00<00:00, 27.00it/s]\n"
          ]
        },
        {
          "output_type": "stream",
          "name": "stdout",
          "text": [
            "Epoch 9 | Average train loss: 3.0636 / Average train Acc: 0.1755 \n",
            "Average valid loss: 3.0248 / Average valid Acc: 0.1844 \n",
            "\n"
          ]
        },
        {
          "output_type": "stream",
          "name": "stderr",
          "text": [
            "Training...: 100%|██████████| 990/990 [03:19<00:00,  4.97it/s, Batch average loss=3.0091]\n",
            "100%|██████████| 1/1 [00:00<00:00, 28.15it/s]\n"
          ]
        },
        {
          "output_type": "stream",
          "name": "stdout",
          "text": [
            "Epoch 10 | Average train loss: 3.0379 / Average train Acc: 0.1812 \n",
            "Average valid loss: 2.9992 / Average valid Acc: 0.1756 \n",
            "\n"
          ]
        },
        {
          "output_type": "stream",
          "name": "stderr",
          "text": [
            "Training...: 100%|██████████| 990/990 [03:10<00:00,  5.20it/s, Batch average loss=3.1623]\n",
            "100%|██████████| 1/1 [00:00<00:00, 25.22it/s]\n"
          ]
        },
        {
          "output_type": "stream",
          "name": "stdout",
          "text": [
            "Epoch 11 | Average train loss: 3.0158 / Average train Acc: 0.186 \n",
            "Average valid loss: 2.9781 / Average valid Acc: 0.1778 \n",
            "\n"
          ]
        },
        {
          "output_type": "stream",
          "name": "stderr",
          "text": [
            "Training...: 100%|██████████| 990/990 [03:04<00:00,  5.37it/s, Batch average loss=2.9509]\n",
            "100%|██████████| 1/1 [00:00<00:00, 22.63it/s]\n"
          ]
        },
        {
          "output_type": "stream",
          "name": "stdout",
          "text": [
            "Epoch 12 | Average train loss: 2.9956 / Average train Acc: 0.1901 \n",
            "Average valid loss: 2.9595 / Average valid Acc: 0.1956 \n",
            "\n"
          ]
        },
        {
          "output_type": "stream",
          "name": "stderr",
          "text": [
            "Training...: 100%|██████████| 990/990 [03:13<00:00,  5.12it/s, Batch average loss=3.0526]\n",
            "100%|██████████| 1/1 [00:00<00:00, 26.65it/s]\n"
          ]
        },
        {
          "output_type": "stream",
          "name": "stdout",
          "text": [
            "Epoch 13 | Average train loss: 2.974 / Average train Acc: 0.1949 \n",
            "Average valid loss: 2.9592 / Average valid Acc: 0.1911 \n",
            "\n"
          ]
        },
        {
          "output_type": "stream",
          "name": "stderr",
          "text": [
            "Training...: 100%|██████████| 990/990 [03:14<00:00,  5.10it/s, Batch average loss=2.8189]\n",
            "100%|██████████| 1/1 [00:00<00:00, 27.31it/s]\n"
          ]
        },
        {
          "output_type": "stream",
          "name": "stdout",
          "text": [
            "Epoch 14 | Average train loss: 2.9558 / Average train Acc: 0.1994 \n",
            "Average valid loss: 2.9471 / Average valid Acc: 0.1911 \n",
            "\n"
          ]
        },
        {
          "output_type": "stream",
          "name": "stderr",
          "text": [
            "Training...: 100%|██████████| 990/990 [03:20<00:00,  4.94it/s, Batch average loss=3.0483]\n",
            "100%|██████████| 1/1 [00:00<00:00, 25.80it/s]\n"
          ]
        },
        {
          "output_type": "stream",
          "name": "stdout",
          "text": [
            "Epoch 15 | Average train loss: 2.9396 / Average train Acc: 0.2036 \n",
            "Average valid loss: 2.9262 / Average valid Acc: 0.2156 \n",
            "\n"
          ]
        },
        {
          "output_type": "stream",
          "name": "stderr",
          "text": [
            "Training...: 100%|██████████| 990/990 [03:13<00:00,  5.12it/s, Batch average loss=2.6974]\n",
            "100%|██████████| 1/1 [00:00<00:00, 24.96it/s]\n"
          ]
        },
        {
          "output_type": "stream",
          "name": "stdout",
          "text": [
            "Epoch 16 | Average train loss: 2.9223 / Average train Acc: 0.2076 \n",
            "Average valid loss: 2.9088 / Average valid Acc: 0.2022 \n",
            "\n"
          ]
        },
        {
          "output_type": "stream",
          "name": "stderr",
          "text": [
            "Training...: 100%|██████████| 990/990 [03:06<00:00,  5.29it/s, Batch average loss=2.8608]\n",
            "100%|██████████| 1/1 [00:00<00:00, 27.20it/s]\n"
          ]
        },
        {
          "output_type": "stream",
          "name": "stdout",
          "text": [
            "Epoch 17 | Average train loss: 2.9053 / Average train Acc: 0.2109 \n",
            "Average valid loss: 2.8808 / Average valid Acc: 0.2156 \n",
            "\n"
          ]
        },
        {
          "output_type": "stream",
          "name": "stderr",
          "text": [
            "Training...: 100%|██████████| 990/990 [03:20<00:00,  4.94it/s, Batch average loss=2.8974]\n",
            "100%|██████████| 1/1 [00:00<00:00, 26.40it/s]\n"
          ]
        },
        {
          "output_type": "stream",
          "name": "stdout",
          "text": [
            "Epoch 18 | Average train loss: 2.89 / Average train Acc: 0.2154 \n",
            "Average valid loss: 2.8598 / Average valid Acc: 0.2133 \n",
            "\n"
          ]
        },
        {
          "output_type": "stream",
          "name": "stderr",
          "text": [
            "Training...: 100%|██████████| 990/990 [03:13<00:00,  5.12it/s, Batch average loss=2.8844]\n",
            "100%|██████████| 1/1 [00:00<00:00, 25.33it/s]\n"
          ]
        },
        {
          "output_type": "stream",
          "name": "stdout",
          "text": [
            "Epoch 19 | Average train loss: 2.8759 / Average train Acc: 0.2191 \n",
            "Average valid loss: 2.861 / Average valid Acc: 0.2044 \n",
            "\n"
          ]
        },
        {
          "output_type": "stream",
          "name": "stderr",
          "text": [
            "Training...: 100%|██████████| 990/990 [03:18<00:00,  4.99it/s, Batch average loss=2.7430]\n",
            "100%|██████████| 1/1 [00:00<00:00, 14.71it/s]\n"
          ]
        },
        {
          "output_type": "stream",
          "name": "stdout",
          "text": [
            "Epoch 20 | Average train loss: 2.8607 / Average train Acc: 0.2236 \n",
            "Average valid loss: 2.8375 / Average valid Acc: 0.22 \n",
            "\n"
          ]
        },
        {
          "output_type": "stream",
          "name": "stderr",
          "text": [
            "Training...: 100%|██████████| 990/990 [03:16<00:00,  5.04it/s, Batch average loss=2.8752]\n",
            "100%|██████████| 1/1 [00:00<00:00, 24.65it/s]\n"
          ]
        },
        {
          "output_type": "stream",
          "name": "stdout",
          "text": [
            "Epoch 21 | Average train loss: 2.8485 / Average train Acc: 0.2257 \n",
            "Average valid loss: 2.8211 / Average valid Acc: 0.2422 \n",
            "\n"
          ]
        },
        {
          "output_type": "stream",
          "name": "stderr",
          "text": [
            "Training...: 100%|██████████| 990/990 [03:21<00:00,  4.92it/s, Batch average loss=2.8677]\n",
            "100%|██████████| 1/1 [00:00<00:00, 23.24it/s]\n"
          ]
        },
        {
          "output_type": "stream",
          "name": "stdout",
          "text": [
            "Epoch 22 | Average train loss: 2.8365 / Average train Acc: 0.2283 \n",
            "Average valid loss: 2.8183 / Average valid Acc: 0.2178 \n",
            "\n"
          ]
        },
        {
          "output_type": "stream",
          "name": "stderr",
          "text": [
            "Training...: 100%|██████████| 990/990 [03:23<00:00,  4.86it/s, Batch average loss=2.7556]\n",
            "100%|██████████| 1/1 [00:00<00:00, 26.11it/s]\n"
          ]
        },
        {
          "output_type": "stream",
          "name": "stdout",
          "text": [
            "Epoch 23 | Average train loss: 2.8241 / Average train Acc: 0.2318 \n",
            "Average valid loss: 2.8005 / Average valid Acc: 0.2333 \n",
            "\n"
          ]
        },
        {
          "output_type": "stream",
          "name": "stderr",
          "text": [
            "Training...: 100%|██████████| 990/990 [03:05<00:00,  5.33it/s, Batch average loss=2.6786]\n",
            "100%|██████████| 1/1 [00:00<00:00, 19.89it/s]\n"
          ]
        },
        {
          "output_type": "stream",
          "name": "stdout",
          "text": [
            "Epoch 24 | Average train loss: 2.8147 / Average train Acc: 0.2338 \n",
            "Average valid loss: 2.7817 / Average valid Acc: 0.2378 \n",
            "\n"
          ]
        },
        {
          "output_type": "stream",
          "name": "stderr",
          "text": [
            "Training...: 100%|██████████| 990/990 [03:09<00:00,  5.23it/s, Batch average loss=2.7077]\n",
            "100%|██████████| 1/1 [00:00<00:00, 26.74it/s]\n"
          ]
        },
        {
          "output_type": "stream",
          "name": "stdout",
          "text": [
            "Epoch 25 | Average train loss: 2.8039 / Average train Acc: 0.2359 \n",
            "Average valid loss: 2.7734 / Average valid Acc: 0.24 \n",
            "\n",
            "Total time used: 4845.754823923111 sec\n"
          ]
        }
      ]
    },
    {
      "cell_type": "markdown",
      "source": [
        "### Show performance"
      ],
      "metadata": {
        "id": "84FX3j9sD2o_"
      }
    },
    {
      "cell_type": "markdown",
      "source": [
        "Loss"
      ],
      "metadata": {
        "id": "BxE_iE4dMkWN"
      }
    },
    {
      "cell_type": "code",
      "source": [
        "x = np.arange(1, n_epoch + 1)\n",
        "plt.xlabel(\"epoches\")\n",
        "plt.ylabel(\"Loss\")\n",
        "plt.plot(x, loss_rate_list[0])\n",
        "plt.plot(x, loss_rate_list[1])\n",
        "plt.grid(True)\n",
        "plt.legend([\"Training data\", \"Validaton data\"], loc = \"upper left\")\n",
        "plt.savefig(\"/content/drive/MyDrive/DL/HW3/LeNet5_pytorch/LeNet5_loss_py.png\")\n",
        "plt.show()"
      ],
      "metadata": {
        "colab": {
          "base_uri": "https://localhost:8080/",
          "height": 449
        },
        "id": "R4GVeEWOD5kK",
        "outputId": "de82559b-5b05-47e1-c2a4-52d04fb1c404"
      },
      "execution_count": null,
      "outputs": [
        {
          "output_type": "display_data",
          "data": {
            "text/plain": [
              "<Figure size 640x480 with 1 Axes>"
            ],
            "image/png": "[encoded data removed]"
          },
          "metadata": {}
        }
      ]
    },
    {
      "cell_type": "markdown",
      "source": [
        "Accuracy"
      ],
      "metadata": {
        "id": "4ELOjtcqMl6i"
      }
    },
    {
      "cell_type": "code",
      "source": [
        "x = np.arange(1, n_epoch + 1)\n",
        "plt.xlabel(\"epoches\")\n",
        "plt.ylabel(\"Accuracy\")\n",
        "plt.plot(x, acc_rate_list[0])\n",
        "plt.plot(x, acc_rate_list[1])\n",
        "plt.grid(True)\n",
        "plt.legend([\"Training data\", \"Validaton data\"], loc = \"upper left\")\n",
        "plt.savefig(\"/content/drive/MyDrive/DL/HW3/LeNet5_pytorch/LeNet5_accuracy_py.png\")\n",
        "plt.show()"
      ],
      "metadata": {
        "colab": {
          "base_uri": "https://localhost:8080/",
          "height": 452
        },
        "id": "R4XfsoyJD6we",
        "outputId": "d9a6a66a-08c6-421b-c5b3-4f17afd1682d"
      },
      "execution_count": null,
      "outputs": [
        {
          "output_type": "display_data",
          "data": {
            "text/plain": [
              "<Figure size 640x480 with 1 Axes>"
            ],
            "image/png": "[encoded data removed]"
          },
          "metadata": {}
        }
      ]
    },
    {
      "cell_type": "markdown",
      "source": [
        "Space complexity"
      ],
      "metadata": {
        "id": "RrCeVoD1MnwR"
      }
    },
    {
      "cell_type": "code",
      "source": [
        "input_size = (3, 28, 28) \n",
        "summary(lenet5, input_size)"
      ],
      "metadata": {
        "colab": {
          "base_uri": "https://localhost:8080/"
        },
        "id": "rLV-fqtWMsat",
        "outputId": "225ce145-7596-45d4-d8e6-76e5b6745aff"
      },
      "execution_count": null,
      "outputs": [
        {
          "output_type": "stream",
          "name": "stdout",
          "text": [
            "----------------------------------------------------------------\n",
            "        Layer (type)               Output Shape         Param #\n",
            "================================================================\n",
            "            Conv2d-1            [-1, 6, 24, 24]             456\n",
            "           Sigmoid-2            [-1, 6, 24, 24]               0\n",
            "         MaxPool2d-3            [-1, 6, 12, 12]               0\n",
            "            Conv2d-4             [-1, 16, 8, 8]           2,416\n",
            "           Sigmoid-5             [-1, 16, 8, 8]               0\n",
            "         MaxPool2d-6             [-1, 16, 4, 4]               0\n",
            "            Linear-7                  [-1, 120]          30,840\n",
            "           Sigmoid-8                  [-1, 120]               0\n",
            "            Linear-9                   [-1, 84]          10,164\n",
            "          Sigmoid-10                   [-1, 84]               0\n",
            "           Linear-11                   [-1, 50]           4,250\n",
            "================================================================\n",
            "Total params: 48,126\n",
            "Trainable params: 48,126\n",
            "Non-trainable params: 0\n",
            "----------------------------------------------------------------\n",
            "Input size (MB): 0.01\n",
            "Forward/backward pass size (MB): 0.08\n",
            "Params size (MB): 0.18\n",
            "Estimated Total Size (MB): 0.27\n",
            "----------------------------------------------------------------\n"
          ]
        }
      ]
    },
    {
      "cell_type": "markdown",
      "source": [
        "FLOPs"
      ],
      "metadata": {
        "id": "J-RKaxONNQIR"
      }
    },
    {
      "cell_type": "code",
      "source": [
        "batch_size = 256\n",
        "input_channels = 3\n",
        "input_height = 28\n",
        "input_width = 28\n",
        "input = torch.randn(batch_size, input_channels, input_height, input_width)\n",
        "input = input.to('cuda')\n",
        "\n",
        "flops, params = profile(lenet5, inputs=(input, ))\n",
        "print(f\"Total FLOPs: {flops / 10**9} G FLOPs\")"
      ],
      "metadata": {
        "colab": {
          "base_uri": "https://localhost:8080/"
        },
        "id": "iWEcXvzWNQxL",
        "outputId": "33982ef0-b87b-487e-a5fd-0af3f12ac4d4"
      },
      "execution_count": null,
      "outputs": [
        {
          "output_type": "stream",
          "name": "stdout",
          "text": [
            "[INFO] Register count_convNd() for <class 'torch.nn.modules.conv.Conv2d'>.\n",
            "[INFO] Register zero_ops() for <class 'torch.nn.modules.pooling.MaxPool2d'>.\n",
            "[INFO] Register zero_ops() for <class 'torch.nn.modules.container.Sequential'>.\n",
            "[INFO] Register count_linear() for <class 'torch.nn.modules.linear.Linear'>.\n",
            "Total FLOPs: 0.2343936 G FLOPs\n"
          ]
        }
      ]
    },
    {
      "cell_type": "markdown",
      "source": [
        "### Optional : Save the trained model and performance\n",
        "\n"
      ],
      "metadata": {
        "id": "AFtF664O-fZ1"
      }
    },
    {
      "cell_type": "markdown",
      "source": [
        "Save the trained model"
      ],
      "metadata": {
        "id": "8hCsTSelDnIq"
      }
    },
    {
      "cell_type": "code",
      "source": [
        "PATH_lenet5_py = '/content/drive/MyDrive/DL/HW3/LeNet5_pytorch/lenet5_py.pth'"
      ],
      "metadata": {
        "id": "bR28WuCg-Bz8"
      },
      "execution_count": null,
      "outputs": []
    },
    {
      "cell_type": "code",
      "source": [
        "torch.save(lenet5.state_dict(), PATH_lenet5_py)"
      ],
      "metadata": {
        "id": "WXfJ-4rg-hBq"
      },
      "execution_count": null,
      "outputs": []
    },
    {
      "cell_type": "markdown",
      "source": [
        "Save the loss"
      ],
      "metadata": {
        "id": "YmHYdYeADpWO"
      }
    },
    {
      "cell_type": "code",
      "source": [
        "np.savez(\"/content/drive/MyDrive/DL/HW3/LeNet5_pytorch/loss_list_py.npz\", train_loss=loss_rate_list[0], valid_loss=loss_rate_list[1])"
      ],
      "metadata": {
        "id": "jzSusPUvC8hA"
      },
      "execution_count": null,
      "outputs": []
    },
    {
      "cell_type": "markdown",
      "source": [
        "Save the  accuracy"
      ],
      "metadata": {
        "id": "0OqPO8V6DrAo"
      }
    },
    {
      "cell_type": "code",
      "source": [
        "np.savez(\"/content/drive/MyDrive/DL/HW3/LeNet5_pytorch/acc_list_py.npz\", train_acc=acc_rate_list[0], valid_acc=acc_rate_list[1])"
      ],
      "metadata": {
        "id": "NBhQgXUDC1Wr"
      },
      "execution_count": null,
      "outputs": []
    },
    {
      "cell_type": "markdown",
      "source": [
        "## Test"
      ],
      "metadata": {
        "id": "b9wdCQZJXygz"
      }
    },
    {
      "cell_type": "markdown",
      "source": [
        "### Load back in saved model"
      ],
      "metadata": {
        "id": "fEEGEhWP-qva"
      }
    },
    {
      "cell_type": "code",
      "source": [
        "PATH_lenet5_py = '/content/drive/MyDrive/DL/HW3/LeNet5_pytorch/lenet5_py.pth'"
      ],
      "metadata": {
        "id": "nOIsv0kTX88c"
      },
      "execution_count": null,
      "outputs": []
    },
    {
      "cell_type": "code",
      "source": [
        "lenet5 = LeNet5().to(device)\n",
        "lenet5.load_state_dict(torch.load(PATH_lenet5_py))"
      ],
      "metadata": {
        "colab": {
          "base_uri": "https://localhost:8080/"
        },
        "id": "dnoF2s4F-vrN",
        "outputId": "52c26896-0fcc-4889-a2de-ea6da697090d"
      },
      "execution_count": null,
      "outputs": [
        {
          "output_type": "execute_result",
          "data": {
            "text/plain": [
              "<All keys matched successfully>"
            ]
          },
          "metadata": {},
          "execution_count": 75
        }
      ]
    },
    {
      "cell_type": "markdown",
      "source": [
        "### Evaluate on testing set"
      ],
      "metadata": {
        "id": "NEMfBxV5---U"
      }
    },
    {
      "cell_type": "code",
      "source": [
        "start_time = time.time()\n",
        "lenet5_test_pred, lenet5_test_avloss, lenet5_test_avacc = test(lenet5, criterion, test_loader, label=True)\n",
        "print(\"Total time used:\", time.time() - start_time, \"sec\")"
      ],
      "metadata": {
        "colab": {
          "base_uri": "https://localhost:8080/"
        },
        "id": "NkJYL4_S-7oq",
        "outputId": "272f684e-230a-4860-9832-c3a8ec9852e5"
      },
      "execution_count": null,
      "outputs": [
        {
          "output_type": "stream",
          "name": "stderr",
          "text": [
            "100%|██████████| 1/1 [00:00<00:00, 22.79it/s]"
          ]
        },
        {
          "output_type": "stream",
          "name": "stdout",
          "text": [
            "Average test loss: 2.8310 | Average test Acc: 0.2444\n"
          ]
        },
        {
          "output_type": "stream",
          "name": "stderr",
          "text": [
            "\n"
          ]
        }
      ]
    },
    {
      "cell_type": "code",
      "source": [
        "def answer(test_y, test_y_pred, data_name, output_name):\n",
        "  df = np.column_stack((test_y, test_y_pred))\n",
        "  test_result = pd.DataFrame(df, index=data_name, columns=['Answer','Prediction'])\n",
        "  test_result.to_csv('/content/drive/MyDrive/DL/HW3/LeNet5_pytorch/' + output_name + '_test_result.csv')\n",
        "  return test_result"
      ],
      "metadata": {
        "id": "HAxOWMYiX5ij"
      },
      "execution_count": null,
      "outputs": []
    },
    {
      "cell_type": "code",
      "source": [
        "output_name = 'LeNet5_py'\n",
        "LeNet5_answer = answer(test_y, lenet5_test_pred, test_dir, output_name)\n",
        "LeNet5_answer"
      ],
      "metadata": {
        "colab": {
          "base_uri": "https://localhost:8080/",
          "height": 423
        },
        "id": "1UntqhCAYyyy",
        "outputId": "4d1c2906-388f-4a2e-80c3-8c777465b2ac"
      },
      "execution_count": null,
      "outputs": [
        {
          "output_type": "execute_result",
          "data": {
            "text/plain": [
              "                                      Answer  Prediction\n",
              "images/n02111277/n02111277_9420.JPEG       0          38\n",
              "images/n02111277/n02111277_9422.JPEG       0          25\n",
              "images/n02111277/n02111277_9484.JPEG       0           0\n",
              "images/n02111277/n02111277_951.JPEG        0           0\n",
              "images/n02111277/n02111277_9518.JPEG       0           0\n",
              "...                                      ...         ...\n",
              "images/n02172182/n02172182_974.JPEG       49          44\n",
              "images/n02172182/n02172182_9765.JPEG      49          44\n",
              "images/n02172182/n02172182_9789.JPEG      49          46\n",
              "images/n02172182/n02172182_98.JPEG        49          46\n",
              "images/n02172182/n02172182_981.JPEG       49           0\n",
              "\n",
              "[450 rows x 2 columns]"
            ],
            "text/html": [
              "\n",
              "  <div id=\"df-c85aaefc-e927-4ddd-bf34-31bd71d6797e\">\n",
              "    <div class=\"colab-df-container\">\n",
              "      <div>\n",
              "<style scoped>\n",
              "    .dataframe tbody tr th:only-of-type {\n",
              "        vertical-align: middle;\n",
              "    }\n",
              "\n",
              "    .dataframe tbody tr th {\n",
              "        vertical-align: top;\n",
              "    }\n",
              "\n",
              "    .dataframe thead th {\n",
              "        text-align: right;\n",
              "    }\n",
              "</style>\n",
              "<table border=\"1\" class=\"dataframe\">\n",
              "  <thead>\n",
              "    <tr style=\"text-align: right;\">\n",
              "      <th></th>\n",
              "      <th>Answer</th>\n",
              "      <th>Prediction</th>\n",
              "    </tr>\n",
              "  </thead>\n",
              "  <tbody>\n",
              "    <tr>\n",
              "      <th>images/n02111277/n02111277_9420.JPEG</th>\n",
              "      <td>0</td>\n",
              "      <td>38</td>\n",
              "    </tr>\n",
              "    <tr>\n",
              "      <th>images/n02111277/n02111277_9422.JPEG</th>\n",
              "      <td>0</td>\n",
              "      <td>25</td>\n",
              "    </tr>\n",
              "    <tr>\n",
              "      <th>images/n02111277/n02111277_9484.JPEG</th>\n",
              "      <td>0</td>\n",
              "      <td>0</td>\n",
              "    </tr>\n",
              "    <tr>\n",
              "      <th>images/n02111277/n02111277_951.JPEG</th>\n",
              "      <td>0</td>\n",
              "      <td>0</td>\n",
              "    </tr>\n",
              "    <tr>\n",
              "      <th>images/n02111277/n02111277_9518.JPEG</th>\n",
              "      <td>0</td>\n",
              "      <td>0</td>\n",
              "    </tr>\n",
              "    <tr>\n",
              "      <th>...</th>\n",
              "      <td>...</td>\n",
              "      <td>...</td>\n",
              "    </tr>\n",
              "    <tr>\n",
              "      <th>images/n02172182/n02172182_974.JPEG</th>\n",
              "      <td>49</td>\n",
              "      <td>44</td>\n",
              "    </tr>\n",
              "    <tr>\n",
              "      <th>images/n02172182/n02172182_9765.JPEG</th>\n",
              "      <td>49</td>\n",
              "      <td>44</td>\n",
              "    </tr>\n",
              "    <tr>\n",
              "      <th>images/n02172182/n02172182_9789.JPEG</th>\n",
              "      <td>49</td>\n",
              "      <td>46</td>\n",
              "    </tr>\n",
              "    <tr>\n",
              "      <th>images/n02172182/n02172182_98.JPEG</th>\n",
              "      <td>49</td>\n",
              "      <td>46</td>\n",
              "    </tr>\n",
              "    <tr>\n",
              "      <th>images/n02172182/n02172182_981.JPEG</th>\n",
              "      <td>49</td>\n",
              "      <td>0</td>\n",
              "    </tr>\n",
              "  </tbody>\n",
              "</table>\n",
              "<p>450 rows × 2 columns</p>\n",
              "</div>\n",
              "      <button class=\"colab-df-convert\" onclick=\"convertToInteractive('df-c85aaefc-e927-4ddd-bf34-31bd71d6797e')\"\n",
              "              title=\"Convert this dataframe to an interactive table.\"\n",
              "              style=\"display:none;\">\n",
              "        \n",
              "  <svg xmlns=\"http://www.w3.org/2000/svg\" height=\"24px\"viewBox=\"0 0 24 24\"\n",
              "       width=\"24px\">\n",
              "    <path d=\"M0 0h24v24H0V0z\" fill=\"none\"/>\n",
              "    <path d=\"M18.56 5.44l.94 2.06.94-2.06 2.06-.94-2.06-.94-.94-2.06-.94 2.06-2.06.94zm-11 1L8.5 8.5l.94-2.06 2.06-.94-2.06-.94L8.5 2.5l-.94 2.06-2.06.94zm10 10l.94 2.06.94-2.06 2.06-.94-2.06-.94-.94-2.06-.94 2.06-2.06.94z\"/><path d=\"M17.41 7.96l-1.37-1.37c-.4-.4-.92-.59-1.43-.59-.52 0-1.04.2-1.43.59L10.3 9.45l-7.72 7.72c-.78.78-.78 2.05 0 2.83L4 21.41c.39.39.9.59 1.41.59.51 0 1.02-.2 1.41-.59l7.78-7.78 2.81-2.81c.8-.78.8-2.07 0-2.86zM5.41 20L4 18.59l7.72-7.72 1.47 1.35L5.41 20z\"/>\n",
              "  </svg>\n",
              "      </button>\n",
              "      \n",
              "  <style>\n",
              "    .colab-df-container {\n",
              "      display:flex;\n",
              "      flex-wrap:wrap;\n",
              "      gap: 12px;\n",
              "    }\n",
              "\n",
              "    .colab-df-convert {\n",
              "      background-color: #E8F0FE;\n",
              "      border: none;\n",
              "      border-radius: 50%;\n",
              "      cursor: pointer;\n",
              "      display: none;\n",
              "      fill: #1967D2;\n",
              "      height: 32px;\n",
              "      padding: 0 0 0 0;\n",
              "      width: 32px;\n",
              "    }\n",
              "\n",
              "    .colab-df-convert:hover {\n",
              "      background-color: #E2EBFA;\n",
              "      box-shadow: 0px 1px 2px rgba(60, 64, 67, 0.3), 0px 1px 3px 1px rgba(60, 64, 67, 0.15);\n",
              "      fill: #174EA6;\n",
              "    }\n",
              "\n",
              "    [theme=dark] .colab-df-convert {\n",
              "      background-color: #3B4455;\n",
              "      fill: #D2E3FC;\n",
              "    }\n",
              "\n",
              "    [theme=dark] .colab-df-convert:hover {\n",
              "      background-color: #434B5C;\n",
              "      box-shadow: 0px 1px 3px 1px rgba(0, 0, 0, 0.15);\n",
              "      filter: drop-shadow(0px 1px 2px rgba(0, 0, 0, 0.3));\n",
              "      fill: #FFFFFF;\n",
              "    }\n",
              "  </style>\n",
              "\n",
              "      <script>\n",
              "        const buttonEl =\n",
              "          document.querySelector('#df-c85aaefc-e927-4ddd-bf34-31bd71d6797e button.colab-df-convert');\n",
              "        buttonEl.style.display =\n",
              "          google.colab.kernel.accessAllowed ? 'block' : 'none';\n",
              "\n",
              "        async function convertToInteractive(key) {\n",
              "          const element = document.querySelector('#df-c85aaefc-e927-4ddd-bf34-31bd71d6797e');\n",
              "          const dataTable =\n",
              "            await google.colab.kernel.invokeFunction('convertToInteractive',\n",
              "                                                     [key], {});\n",
              "          if (!dataTable) return;\n",
              "\n",
              "          const docLinkHtml = 'Like what you see? Visit the ' +\n",
              "            '<a target=\"_blank\" href=https://colab.research.google.com/notebooks/data_table.ipynb>data table notebook</a>'\n",
              "            + ' to learn more about interactive tables.';\n",
              "          element.innerHTML = '';\n",
              "          dataTable['output_type'] = 'display_data';\n",
              "          await google.colab.output.renderOutput(dataTable, element);\n",
              "          const docLink = document.createElement('div');\n",
              "          docLink.innerHTML = docLinkHtml;\n",
              "          element.appendChild(docLink);\n",
              "        }\n",
              "      </script>\n",
              "    </div>\n",
              "  </div>\n",
              "  "
            ]
          },
          "metadata": {},
          "execution_count": 80
        }
      ]
    }
  ]
}